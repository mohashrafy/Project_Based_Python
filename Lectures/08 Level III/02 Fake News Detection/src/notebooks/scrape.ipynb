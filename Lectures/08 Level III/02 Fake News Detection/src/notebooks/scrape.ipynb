{
 "cells": [
  {
   "cell_type": "code",
   "execution_count": 1,
   "metadata": {},
   "outputs": [],
   "source": [
    "import urllib\n",
    "import requests\n",
    "from bs4 import BeautifulSoup\n",
    "from functools import cache"
   ]
  },
  {
   "cell_type": "code",
   "execution_count": 2,
   "metadata": {},
   "outputs": [],
   "source": [
    "from openai import OpenAI\n",
    "client = OpenAI(api_key=\"\")"
   ]
  },
  {
   "cell_type": "code",
   "execution_count": 3,
   "metadata": {},
   "outputs": [],
   "source": [
    "@cache\n",
    "def send_request(url):\n",
    "    headers = {\n",
    "        \"User-Agent\": \"Mozilla/5.0 (Windows NT 10.0; Win64; x64) AppleWebKit/537.36 (KHTML, like Gecko) Chrome/58.0.3029.110 Safari/537.36\"\n",
    "    }\n",
    "    response = requests.get(url, headers=headers)\n",
    "    return response"
   ]
  },
  {
   "cell_type": "code",
   "execution_count": 4,
   "metadata": {},
   "outputs": [],
   "source": [
    "import re\n",
    "\n",
    "def extract_links(html_content):\n",
    "    soup = BeautifulSoup(html_content, 'html.parser')\n",
    "    a_tags = soup.find_all('a', recursive=True)\n",
    "    for a in a_tags:\n",
    "        h3_tags = a.find_all('h3', recursive=True)\n",
    "        for _ in h3_tags:\n",
    "            href = a['href']\n",
    "            match = re.search(r'url=(.*?)&', href)\n",
    "            if match:\n",
    "                yield match.group(1)"
   ]
  },
  {
   "cell_type": "code",
   "execution_count": 5,
   "metadata": {},
   "outputs": [],
   "source": [
    "def search_google(query):\n",
    "    encoded_query = urllib.parse.quote_plus(query)\n",
    "    url = f\"https://www.google.com/search?q={encoded_query}\"\n",
    "    response = send_request(url)\n",
    "    return list(extract_links(response.text))"
   ]
  },
  {
   "cell_type": "code",
   "execution_count": 6,
   "metadata": {},
   "outputs": [],
   "source": [
    "def extract_body_content(html_content):\n",
    "    # Parse the HTML content\n",
    "    soup = BeautifulSoup(html_content, \"html.parser\")\n",
    "\n",
    "    # Find the body tag\n",
    "    body = soup.find(\"body\")\n",
    "\n",
    "    if body:\n",
    "        # Remove unwanted tags\n",
    "        for element in body.find_all([\"script\", \"style\", \"meta\", \"noscript\"]):\n",
    "            element.decompose()\n",
    "\n",
    "        return str(body)"
   ]
  },
  {
   "cell_type": "code",
   "execution_count": 7,
   "metadata": {},
   "outputs": [],
   "source": [
    "from bs4 import BeautifulSoup\n",
    "import re\n",
    "\n",
    "def clean_html(html_content):\n",
    "    # Parse the HTML content\n",
    "    soup = BeautifulSoup(html_content, 'html.parser')\n",
    "\n",
    "    # Find all elements\n",
    "    for tag in soup.find_all():\n",
    "        # if tag.name == 'a':\n",
    "        #     # If it's an 'a' tag, keep only the href attribute\n",
    "        #     href = tag.get('href')\n",
    "        #     tag.attrs = {}  # Clear all attributes\n",
    "        #     if href:\n",
    "        #         tag['href'] = href  # Add back the href if it existed\n",
    "        # else:\n",
    "        # If it's not an 'a' tag, replace it with its contents\n",
    "        tag.replace_with_children()\n",
    "\n",
    "    # Return the modified HTML as a string\n",
    "    text_content = str(soup)\n",
    "    return re.sub(r'\\s+', ' ', text_content)"
   ]
  },
  {
   "cell_type": "code",
   "execution_count": 8,
   "metadata": {},
   "outputs": [],
   "source": [
    "query = \"Earth is disovered to be flat\"\n",
    "links = search_google(query)\n"
   ]
  },
  {
   "cell_type": "code",
   "execution_count": 9,
   "metadata": {},
   "outputs": [],
   "source": [
    "from markdownify import markdownify as md\n",
    "\n",
    "def prepare_context(links):\n",
    "    context = \"\"\n",
    "    for link in links:\n",
    "        try:\n",
    "            response = send_request(link)\n",
    "            body = extract_body_content(response.text)\n",
    "            content = clean_html(body)\n",
    "            markdown_content = md(content)\n",
    "            top_1000_words = \" \".join(markdown_content.split()[:1000])\n",
    "            context += top_1000_words + \"\\n\\n\"\n",
    "        except Exception as e:\n",
    "            print(f\"Error processing link: {link}. Error: {e}\")\n",
    "    return context\n",
    "context = prepare_context(links)"
   ]
  },
  {
   "cell_type": "code",
   "execution_count": 14,
   "metadata": {},
   "outputs": [],
   "source": [
    "prompt = \"\"\"\n",
    "I give you an information body from news and given a prompt you should detect if the prompt is a fake news or not briefly. I want to make decision accordingly. Just tell me if it's fake or not. Do not add anything else. Here is the prompt:\n",
    "Prompt:\n",
    "{query}\n",
    "Information body:\n",
    "{context}\n",
    "\"\"\".format(context=context, query=query)"
   ]
  },
  {
   "cell_type": "code",
   "execution_count": 15,
   "metadata": {},
   "outputs": [],
   "source": [
    "def call_llm(prompt, model=\"gpt-4o-mini\"):\n",
    "    response = client.chat.completions.create(\n",
    "    model=model,\n",
    "    messages=[\n",
    "        {\"role\": \"system\", \"content\": \"You are a helpful assistant.\"},\n",
    "        {\"role\": \"user\", \"content\": prompt}\n",
    "    ]\n",
    "    )\n",
    "    return response.choices[0].message.content"
   ]
  },
  {
   "cell_type": "code",
   "execution_count": 16,
   "metadata": {},
   "outputs": [
    {
     "data": {
      "text/plain": [
       "'Fake.'"
      ]
     },
     "execution_count": 16,
     "metadata": {},
     "output_type": "execute_result"
    }
   ],
   "source": [
    "call_llm(prompt)"
   ]
  },
  {
   "cell_type": "code",
   "execution_count": null,
   "metadata": {},
   "outputs": [],
   "source": []
  },
  {
   "cell_type": "code",
   "execution_count": null,
   "metadata": {},
   "outputs": [],
   "source": []
  }
 ],
 "metadata": {
  "kernelspec": {
   "display_name": "py310",
   "language": "python",
   "name": "python3"
  },
  "language_info": {
   "codemirror_mode": {
    "name": "ipython",
    "version": 3
   },
   "file_extension": ".py",
   "mimetype": "text/x-python",
   "name": "python",
   "nbconvert_exporter": "python",
   "pygments_lexer": "ipython3",
   "version": "3.10.12"
  }
 },
 "nbformat": 4,
 "nbformat_minor": 2
}
