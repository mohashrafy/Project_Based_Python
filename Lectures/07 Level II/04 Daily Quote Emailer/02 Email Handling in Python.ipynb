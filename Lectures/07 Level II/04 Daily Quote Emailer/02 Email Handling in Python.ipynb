{
 "cells": [
  {
   "cell_type": "markdown",
   "metadata": {},
   "source": [
    "<img src=\"./images/banner.png\" width=\"800\">"
   ]
  },
  {
   "cell_type": "markdown",
   "metadata": {},
   "source": [
    "# Mastering Email Automation with Python"
   ]
  },
  {
   "cell_type": "markdown",
   "metadata": {},
   "source": [
    "In today's digital age, email remains a cornerstone of communication, both personal and professional. As developers, the ability to programmatically send, receive, and process emails opens up a world of possibilities for automation, data analysis, and building powerful applications. Python, with its rich ecosystem of libraries and straightforward syntax, is an excellent choice for working with emails.\n"
   ]
  },
  {
   "cell_type": "markdown",
   "metadata": {},
   "source": [
    "Python offers several advantages when it comes to email manipulation:\n",
    "\n",
    "1. **Rich Standard Library**: Python's built-in `smtplib` and `email` modules provide robust functionality for sending emails and creating email content.\n",
    "\n",
    "2. **Extensive Third-Party Libraries**: Libraries like `imaplib` for IMAP protocol handling, and higher-level wrappers like `yagmail` for Gmail, extend Python's email capabilities.\n",
    "\n",
    "3. **Cross-Platform Compatibility**: Python's email handling works consistently across different operating systems.\n",
    "\n",
    "4. **Integration Capabilities**: Easy integration with web frameworks, data analysis tools, and other Python libraries for comprehensive solutions.\n"
   ]
  },
  {
   "cell_type": "markdown",
   "metadata": {},
   "source": [
    "Throughout this lecture, we'll cover:\n",
    "\n",
    "1. Setting up your Python environment for email handling\n",
    "2. Sending simple text emails\n",
    "3. Creating and sending HTML emails with attachments\n",
    "4. Working with email templates\n",
    "5. Handling multiple recipients (To, Cc, Bcc)\n",
    "6. Connecting to IMAP servers to read emails\n",
    "7. Processing and analyzing email content\n",
    "8. Best practices and security considerations\n"
   ]
  },
  {
   "cell_type": "markdown",
   "metadata": {},
   "source": [
    "Let's begin with a basic example of sending an email using Python's `smtplib`:\n"
   ]
  },
  {
   "cell_type": "markdown",
   "metadata": {},
   "source": [
    "```python\n",
    "import smtplib\n",
    "from email.mime.text import MIMEText\n",
    "\n",
    "def send_email(sender, recipient, subject, body):\n",
    "    msg = MIMEText(body)\n",
    "    msg['Subject'] = subject\n",
    "    msg['From'] = sender\n",
    "    msg['To'] = recipient\n",
    "\n",
    "    smtp_server = 'smtp.gmail.com'\n",
    "    smtp_port = 587\n",
    "\n",
    "    with smtplib.SMTP(smtp_server, smtp_port) as server:\n",
    "        server.starttls()\n",
    "        server.login(sender, 'your_password_here')\n",
    "        server.send_message(msg)\n",
    "\n",
    "# Usage\n",
    "send_email('sender@example.com', 'recipient@example.com', 'Hello from Python', 'This is a test email sent from Python!')\n",
    "```\n"
   ]
  },
  {
   "cell_type": "markdown",
   "metadata": {},
   "source": [
    "This script demonstrates the basic steps involved in sending an email:\n",
    "1. Creating an email message\n",
    "2. Connecting to an SMTP server\n",
    "3. Authenticating\n",
    "4. Sending the message\n"
   ]
  },
  {
   "cell_type": "markdown",
   "metadata": {},
   "source": [
    "💡 **Note:** This example uses Gmail's SMTP server. You'll need to adjust the settings for other email providers, and for Gmail, you might need to use an \"App Password\" instead of your regular password due to security settings.\n"
   ]
  },
  {
   "cell_type": "markdown",
   "metadata": {},
   "source": [
    "Imagine the possibilities:\n",
    "- Sending personalized newsletters to thousands of subscribers\n",
    "- Automatically responding to customer inquiries\n",
    "- Monitoring an inbox for specific types of messages and taking action\n",
    "- Analyzing email patterns in a large dataset\n"
   ]
  },
  {
   "cell_type": "markdown",
   "metadata": {},
   "source": [
    "As we progress through this lecture, you'll gain the skills to implement these and many more email-related tasks efficiently using Python.\n"
   ]
  },
  {
   "cell_type": "markdown",
   "metadata": {},
   "source": [
    "🔑 **Key Concept:** Python's email handling capabilities extend far beyond just sending and receiving messages. They provide a foundation for building sophisticated email-based applications and automation systems.\n"
   ]
  },
  {
   "cell_type": "markdown",
   "metadata": {},
   "source": [
    "In the next sections, we'll dive deeper into the specifics of email handling in Python, exploring more advanced features and best practices. Get ready to unlock the full potential of email automation with Python!"
   ]
  },
  {
   "cell_type": "markdown",
   "metadata": {},
   "source": [
    "## <a id='toc1_'></a>[Python's smtplib Library: An Overview](#toc0_)"
   ]
  },
  {
   "cell_type": "markdown",
   "metadata": {},
   "source": [
    "**Table of contents**<a id='toc0_'></a>    \n",
    "- [Python's smtplib Library: An Overview](#toc1_)    \n",
    "  - [What is smtplib?](#toc1_1_)    \n",
    "  - [Key Features of smtplib](#toc1_2_)    \n",
    "  - [Basic Usage of smtplib](#toc1_3_)    \n",
    "  - [Key Methods in smtplib.SMTP](#toc1_4_)    \n",
    "  - [Advanced Features](#toc1_5_)    \n",
    "  - [Best Practices](#toc1_6_)    \n",
    "- [Composing Simple Text Emails](#toc2_)    \n",
    "  - [Basic Structure of a Text Email](#toc2_1_)    \n",
    "  - [Using email.mime.text.MIMEText](#toc2_2_)    \n",
    "  - [Formatting Text in the Email Body](#toc2_3_)    \n",
    "  - [Handling Special Characters](#toc2_4_)    \n",
    "  - [Best Practices for Text Emails](#toc2_5_)    \n",
    "  - [Practical Example: Automated Report Email](#toc2_6_)    \n",
    "- [Creating HTML Emails](#toc3_)    \n",
    "  - [Why Use HTML Emails?](#toc3_1_)    \n",
    "  - [Basic Structure of an HTML Email](#toc3_2_)    \n",
    "  - [Creating an HTML Email with Python](#toc3_3_)    \n",
    "  - [Best Practices for HTML Emails](#toc3_4_)    \n",
    "  - [Adding Images to HTML Emails](#toc3_5_)    \n",
    "  - [Creating Responsive HTML Emails](#toc3_6_)    \n",
    "  - [Using Email Templates](#toc3_7_)    \n",
    "- [Handling Email Attachments](#toc4_)    \n",
    "  - [Why Use Email Attachments?](#toc4_1_)    \n",
    "  - [Adding Attachments to Emails](#toc4_2_)    \n",
    "  - [Handling Multiple Attachments](#toc4_3_)    \n",
    "  - [Best Practices for Email Attachments](#toc4_4_)    \n",
    "  - [Handling Different File Types](#toc4_5_)    \n",
    "  - [Reading Attachments from Received Emails](#toc4_6_)    \n",
    "- [Sending Emails to Multiple Recipients](#toc5_)    \n",
    "  - [Types of Multiple Recipients](#toc5_1_)    \n",
    "  - [Basic Approach to Sending to Multiple Recipients](#toc5_2_)    \n",
    "  - [Using Cc and Bcc](#toc5_3_)    \n",
    "  - [Best Practices for Sending to Multiple Recipients](#toc5_4_)    \n",
    "  - [Personalization for Multiple Recipients](#toc5_5_)    \n",
    "  - [Handling Bounced Emails](#toc5_6_)    \n",
    "- [Advanced Topics: Email Templates and Personalization](#toc6_)    \n",
    "  - [Why Use Email Templates and Personalization?](#toc6_1_)    \n",
    "  - [Using Jinja2 for Email Templates](#toc6_2_)    \n",
    "  - [Creating Reusable Template Files](#toc6_3_)    \n",
    "  - [Advanced Personalization Techniques](#toc6_4_)    \n",
    "  - [Handling Complex Data Structures](#toc6_5_)    \n",
    "  - [Best Practices for Email Templates and Personalization](#toc6_6_)    \n",
    "  - [Integrating with Email Sending](#toc6_7_)    \n",
    "- [Final Summary: Mastering Email Automation with Python](#toc7_)    \n",
    "\n",
    "<!-- vscode-jupyter-toc-config\n",
    "\tnumbering=false\n",
    "\tanchor=true\n",
    "\tflat=false\n",
    "\tminLevel=2\n",
    "\tmaxLevel=6\n",
    "\t/vscode-jupyter-toc-config -->\n",
    "<!-- THIS CELL WILL BE REPLACED ON TOC UPDATE. DO NOT WRITE YOUR TEXT IN THIS CELL -->"
   ]
  },
  {
   "cell_type": "markdown",
   "metadata": {},
   "source": [
    "The `smtplib` library is a core component of Python's email handling capabilities. It implements the Simple Mail Transfer Protocol (SMTP), allowing you to send emails from your Python scripts. Understanding this library is crucial for anyone looking to automate email sending or build email-related applications in Python.\n"
   ]
  },
  {
   "cell_type": "markdown",
   "metadata": {},
   "source": [
    "### <a id='toc1_1_'></a>[What is smtplib?](#toc0_)\n"
   ]
  },
  {
   "cell_type": "markdown",
   "metadata": {},
   "source": [
    "`smtplib` is part of Python's standard library, which means it's available in every Python installation without the need for additional installations. This library provides an implementation of the SMTP protocol, enabling communication with mail servers to send emails.\n"
   ]
  },
  {
   "cell_type": "markdown",
   "metadata": {},
   "source": [
    "### <a id='toc1_2_'></a>[Key Features of smtplib](#toc0_)\n"
   ]
  },
  {
   "cell_type": "markdown",
   "metadata": {},
   "source": [
    "1. **SMTP and ESMTP support**: Handles both basic SMTP and Extended SMTP protocols.\n",
    "2. **TLS/SSL encryption**: Supports secure connections to mail servers.\n",
    "3. **Authentication**: Allows for username/password authentication with mail servers.\n",
    "4. **Multiple recipients**: Can send emails to multiple recipients in one go.\n",
    "5. **Error handling**: Provides detailed error messages for troubleshooting.\n"
   ]
  },
  {
   "cell_type": "markdown",
   "metadata": {},
   "source": [
    "### <a id='toc1_3_'></a>[Basic Usage of smtplib](#toc0_)\n"
   ]
  },
  {
   "cell_type": "markdown",
   "metadata": {},
   "source": [
    "Let's break down the basic steps to send an email using `smtplib`:\n"
   ]
  },
  {
   "cell_type": "markdown",
   "metadata": {},
   "source": [
    "```python\n",
    "import smtplib\n",
    "from email.mime.text import MIMEText\n",
    "\n",
    "# Create the email content\n",
    "msg = MIMEText(\"This is the email body\")\n",
    "msg['Subject'] = \"Email Subject\"\n",
    "msg['From'] = \"sender@example.com\"\n",
    "msg['To'] = \"recipient@example.com\"\n",
    "\n",
    "# Connect to the SMTP server\n",
    "smtp_server = \"smtp.gmail.com\"\n",
    "port = 587  # For starttls\n",
    "sender_email = \"sender@example.com\"\n",
    "password = \"your_password_here\"\n",
    "\n",
    "try:\n",
    "    server = smtplib.SMTP(smtp_server, port)\n",
    "    server.starttls()  # Secure the connection\n",
    "    server.login(sender_email, password)\n",
    "    server.send_message(msg)\n",
    "    print(\"Email sent successfully!\")\n",
    "except Exception as e:\n",
    "    print(f\"An error occurred: {e}\")\n",
    "finally:\n",
    "    server.quit()\n",
    "```\n"
   ]
  },
  {
   "cell_type": "markdown",
   "metadata": {},
   "source": [
    "### <a id='toc1_4_'></a>[Key Methods in smtplib.SMTP](#toc0_)\n"
   ]
  },
  {
   "cell_type": "markdown",
   "metadata": {},
   "source": [
    "- `SMTP(host, port)`: Creates an SMTP object to connect to the specified server.\n",
    "- `starttls()`: Puts the connection to the SMTP server into TLS mode.\n",
    "- `login(user, password)`: Logs in to the server using the provided credentials.\n",
    "- `send_message(msg)`: Sends the email message.\n",
    "- `quit()`: Terminates the SMTP session and closes the connection.\n"
   ]
  },
  {
   "cell_type": "markdown",
   "metadata": {},
   "source": [
    "### <a id='toc1_5_'></a>[Advanced Features](#toc0_)\n"
   ]
  },
  {
   "cell_type": "markdown",
   "metadata": {},
   "source": [
    "1. **Handling Attachments**\n"
   ]
  },
  {
   "cell_type": "markdown",
   "metadata": {},
   "source": [
    "To send attachments, you'll need to use `MIMEMultipart` and `MIMEBase` from the `email.mime` module:\n"
   ]
  },
  {
   "cell_type": "markdown",
   "metadata": {},
   "source": [
    "```python\n",
    "from email.mime.multipart import MIMEMultipart\n",
    "from email.mime.base import MIMEBase\n",
    "from email import encoders\n",
    "\n",
    "msg = MIMEMultipart()\n",
    "# ... set up the basic email headers ...\n",
    "\n",
    "# Add attachment\n",
    "filename = \"document.pdf\"\n",
    "attachment = open(filename, \"rb\")\n",
    "\n",
    "part = MIMEBase('application', 'octet-stream')\n",
    "part.set_payload(attachment.read())\n",
    "encoders.encode_base64(part)\n",
    "part.add_header('Content-Disposition', f\"attachment; filename= {filename}\")\n",
    "\n",
    "msg.attach(part)\n",
    "```\n"
   ]
  },
  {
   "cell_type": "markdown",
   "metadata": {},
   "source": [
    "2. **Sending to Multiple Recipients**\n"
   ]
  },
  {
   "cell_type": "markdown",
   "metadata": {},
   "source": [
    "You can send to multiple recipients by separating email addresses with commas in the 'To' field:\n"
   ]
  },
  {
   "cell_type": "markdown",
   "metadata": {},
   "source": [
    "```python\n",
    "msg['To'] = \"recipient1@example.com, recipient2@example.com\"\n",
    "```\n"
   ]
  },
  {
   "cell_type": "markdown",
   "metadata": {},
   "source": [
    "3. **Using CC and BCC**\n"
   ]
  },
  {
   "cell_type": "markdown",
   "metadata": {},
   "source": [
    "```python\n",
    "msg['Cc'] = \"cc_recipient@example.com\"\n",
    "msg['Bcc'] = \"bcc_recipient@example.com\"\n",
    "```\n"
   ]
  },
  {
   "cell_type": "markdown",
   "metadata": {},
   "source": [
    "### <a id='toc1_6_'></a>[Best Practices](#toc0_)\n"
   ]
  },
  {
   "cell_type": "markdown",
   "metadata": {},
   "source": [
    "1. **Use Context Managers**: Wrap your SMTP connection in a `with` statement to ensure proper closure:\n",
    "\n",
    "   ```python\n",
    "   with smtplib.SMTP(smtp_server, port) as server:\n",
    "       # Your email sending code here\n",
    "   ```\n",
    "\n",
    "2. **Handle Exceptions**: Always include error handling to catch and manage potential issues.\n",
    "\n",
    "3. **Secure Your Credentials**: Never hardcode sensitive information like passwords in your script. Use environment variables or secure configuration files.\n",
    "\n",
    "4. **Rate Limiting**: Be aware of and respect the sending limits of your SMTP server to avoid being flagged as a spammer.\n"
   ]
  },
  {
   "cell_type": "markdown",
   "metadata": {},
   "source": [
    "💡 **Pro Tip:** When working with Gmail, you might need to use an \"App Password\" instead of your regular password, and enable \"Less secure app access\" in your Google Account settings. However, it's generally better to use OAuth2 for enhanced security in production environments.\n"
   ]
  },
  {
   "cell_type": "markdown",
   "metadata": {},
   "source": [
    "Understanding `smtplib` provides a solid foundation for email automation in Python. As you become more comfortable with its usage, you'll be able to create more complex and powerful email-based applications."
   ]
  },
  {
   "cell_type": "markdown",
   "metadata": {},
   "source": [
    "## <a id='toc2_'></a>[Composing Simple Text Emails](#toc0_)"
   ]
  },
  {
   "cell_type": "markdown",
   "metadata": {},
   "source": [
    "While modern emails often contain rich HTML content and attachments, there's still a place for simple, straightforward text emails. They're quick to compose, universally compatible, and perfect for many automated tasks. Let's explore how to create and send simple text emails using Python.\n"
   ]
  },
  {
   "cell_type": "markdown",
   "metadata": {},
   "source": [
    "### <a id='toc2_1_'></a>[Basic Structure of a Text Email](#toc0_)\n"
   ]
  },
  {
   "cell_type": "markdown",
   "metadata": {},
   "source": [
    "A simple text email consists of a few key components:\n",
    "\n",
    "1. Sender's email address\n",
    "2. Recipient's email address\n",
    "3. Subject line\n",
    "4. Email body (plain text)\n"
   ]
  },
  {
   "cell_type": "markdown",
   "metadata": {},
   "source": [
    "### <a id='toc2_2_'></a>[Using email.mime.text.MIMEText](#toc0_)\n"
   ]
  },
  {
   "cell_type": "markdown",
   "metadata": {},
   "source": [
    "Python's `email.mime.text` module provides the `MIMEText` class, which is perfect for creating simple text emails. Here's how to use it:\n"
   ]
  },
  {
   "cell_type": "markdown",
   "metadata": {},
   "source": [
    "```python\n",
    "from email.mime.text import MIMEText\n",
    "import smtplib\n",
    "\n",
    "def send_simple_email(sender, recipient, subject, body):\n",
    "    # Create the email message\n",
    "    msg = MIMEText(body)\n",
    "    msg['Subject'] = subject\n",
    "    msg['From'] = sender\n",
    "    msg['To'] = recipient\n",
    "\n",
    "    # Set up the SMTP server\n",
    "    smtp_server = \"smtp.gmail.com\"\n",
    "    port = 587\n",
    "    sender_email = \"your_email@gmail.com\"\n",
    "    password = \"your_password\"\n",
    "\n",
    "    try:\n",
    "        with smtplib.SMTP(smtp_server, port) as server:\n",
    "            server.starttls()\n",
    "            server.login(sender_email, password)\n",
    "            server.send_message(msg)\n",
    "            print(\"Email sent successfully!\")\n",
    "    except Exception as e:\n",
    "        print(f\"An error occurred: {e}\")\n",
    "\n",
    "# Usage\n",
    "send_simple_email(\n",
    "    \"sender@example.com\",\n",
    "    \"recipient@example.com\",\n",
    "    \"Hello from Python\",\n",
    "    \"This is a simple text email sent from Python.\"\n",
    ")\n",
    "```\n"
   ]
  },
  {
   "cell_type": "markdown",
   "metadata": {},
   "source": [
    "To send an email to multiple recipients, you can separate email addresses with commas:\n"
   ]
  },
  {
   "cell_type": "markdown",
   "metadata": {},
   "source": [
    "```python\n",
    "msg['To'] = \"recipient1@example.com, recipient2@example.com\"\n",
    "```\n"
   ]
  },
  {
   "cell_type": "markdown",
   "metadata": {},
   "source": [
    "Alternatively, you can use the `COMMASPACE` constant from the `email.utils` module:\n"
   ]
  },
  {
   "cell_type": "markdown",
   "metadata": {},
   "source": [
    "```python\n",
    "from email.utils import COMMASPACE\n",
    "\n",
    "recipients = [\"recipient1@example.com\", \"recipient2@example.com\"]\n",
    "msg['To'] = COMMASPACE.join(recipients)\n",
    "```\n"
   ]
  },
  {
   "cell_type": "markdown",
   "metadata": {},
   "source": [
    "To add CC (Carbon Copy) and BCC (Blind Carbon Copy) recipients:\n"
   ]
  },
  {
   "cell_type": "markdown",
   "metadata": {},
   "source": [
    "```python\n",
    "msg['Cc'] = \"cc_recipient@example.com\"\n",
    "msg['Bcc'] = \"bcc_recipient@example.com\"\n",
    "```\n"
   ]
  },
  {
   "cell_type": "markdown",
   "metadata": {},
   "source": [
    "Remember that BCC recipients are not visible to other recipients.\n"
   ]
  },
  {
   "cell_type": "markdown",
   "metadata": {},
   "source": [
    "### <a id='toc2_3_'></a>[Formatting Text in the Email Body](#toc0_)\n"
   ]
  },
  {
   "cell_type": "markdown",
   "metadata": {},
   "source": [
    "While we're working with plain text emails, you can still use some basic formatting to improve readability:\n"
   ]
  },
  {
   "cell_type": "markdown",
   "metadata": {},
   "source": [
    "```python\n",
    "body = \"\"\"\n",
    "Dear Recipient,\n",
    "\n",
    "I hope this email finds you well.\n",
    "\n",
    "Here are a few key points:\n",
    "1. First item\n",
    "2. Second item\n",
    "3. Third item\n",
    "\n",
    "Best regards,\n",
    "Sender\n",
    "\"\"\"\n",
    "\n",
    "msg = MIMEText(body)\n",
    "```\n"
   ]
  },
  {
   "cell_type": "markdown",
   "metadata": {},
   "source": [
    "### <a id='toc2_4_'></a>[Handling Special Characters](#toc0_)\n"
   ]
  },
  {
   "cell_type": "markdown",
   "metadata": {},
   "source": [
    "If your email contains non-ASCII characters, you should specify the character encoding:\n",
    "\n",
    "```python\n",
    "body = \"This contains special characters: áéíóú\"\n",
    "msg = MIMEText(body, _charset=\"utf-8\")\n",
    "```\n"
   ]
  },
  {
   "cell_type": "markdown",
   "metadata": {},
   "source": [
    "### <a id='toc2_5_'></a>[Best Practices for Text Emails](#toc0_)\n"
   ]
  },
  {
   "cell_type": "markdown",
   "metadata": {},
   "source": [
    "1. **Keep it concise**: Text emails are best when they're short and to the point.\n",
    "2. **Use line breaks wisely**: Structure your content with appropriate line breaks for readability.\n",
    "3. **Avoid large blocks of text**: Break up your content into smaller paragraphs.\n",
    "4. **Use simple formatting**: Utilize asterisks, dashes, or numbers for lists and emphasis.\n",
    "5. **Include a signature**: End your email with a clear signature for identification.\n"
   ]
  },
  {
   "cell_type": "markdown",
   "metadata": {},
   "source": [
    "### <a id='toc2_6_'></a>[Practical Example: Automated Report Email](#toc0_)\n"
   ]
  },
  {
   "cell_type": "markdown",
   "metadata": {},
   "source": [
    "Here's an example of how you might use a simple text email to send an automated report:\n"
   ]
  },
  {
   "cell_type": "markdown",
   "metadata": {},
   "source": [
    "```python\n",
    "def send_daily_report(recipient, sales_data):\n",
    "    subject = f\"Daily Sales Report - {datetime.date.today()}\"\n",
    "    body = f\"\"\"\n",
    "    Daily Sales Report\n",
    "    Date: {datetime.date.today()}\n",
    "\n",
    "    Total Sales: ${sales_data['total']}\n",
    "    Number of Transactions: {sales_data['transactions']}\n",
    "    Top Selling Item: {sales_data['top_item']}\n",
    "\n",
    "    For more details, please check the attached report.\n",
    "\n",
    "    Best regards,\n",
    "    Sales Automation Team\n",
    "    \"\"\"\n",
    "\n",
    "    send_simple_email(\"reports@company.com\", recipient, subject, body)\n",
    "\n",
    "# Usage\n",
    "sales_data = {\n",
    "    'total': 15000,\n",
    "    'transactions': 143,\n",
    "    'top_item': 'Widget X'\n",
    "}\n",
    "send_daily_report(\"manager@company.com\", sales_data)\n",
    "```\n"
   ]
  },
  {
   "cell_type": "markdown",
   "metadata": {},
   "source": [
    "🔑 **Key Takeaway:** Simple text emails are powerful tools for automated communication. They're quick to compose, widely compatible, and perfect for conveying straightforward information.\n"
   ]
  },
  {
   "cell_type": "markdown",
   "metadata": {},
   "source": [
    "By mastering the creation and sending of simple text emails, you've laid the groundwork for more advanced email operations in Python. In the next sections, we'll explore how to enhance your emails with HTML formatting and attachments."
   ]
  },
  {
   "cell_type": "markdown",
   "metadata": {},
   "source": [
    "## <a id='toc3_'></a>[Creating HTML Emails](#toc0_)"
   ]
  },
  {
   "cell_type": "markdown",
   "metadata": {},
   "source": [
    "While plain text emails have their place, HTML emails offer richer formatting options, allowing for more visually appealing and interactive content. Let's explore how to create and send HTML emails using Python.\n"
   ]
  },
  {
   "cell_type": "markdown",
   "metadata": {},
   "source": [
    "### <a id='toc3_1_'></a>[Why Use HTML Emails?](#toc0_)\n"
   ]
  },
  {
   "cell_type": "markdown",
   "metadata": {},
   "source": [
    "HTML emails provide several advantages:\n",
    "- Enhanced visual appeal with formatting, colors, and layout\n",
    "- Ability to include images and links\n",
    "- Support for responsive design for better mobile viewing\n",
    "- Improved tracking capabilities (e.g., open rates, click-through rates)\n"
   ]
  },
  {
   "cell_type": "markdown",
   "metadata": {},
   "source": [
    "### <a id='toc3_2_'></a>[Basic Structure of an HTML Email](#toc0_)\n"
   ]
  },
  {
   "cell_type": "markdown",
   "metadata": {},
   "source": [
    "An HTML email typically consists of:\n",
    "1. HTML content (the email body)\n",
    "2. Optional plain text alternative (for email clients that don't support HTML)\n",
    "3. Email headers (From, To, Subject, etc.)\n"
   ]
  },
  {
   "cell_type": "markdown",
   "metadata": {},
   "source": [
    "### <a id='toc3_3_'></a>[Creating an HTML Email with Python](#toc0_)\n"
   ]
  },
  {
   "cell_type": "markdown",
   "metadata": {},
   "source": [
    "To create an HTML email, we'll use the `email.mime.multipart.MIMEMultipart` and `email.mime.text.MIMEText` classes:\n"
   ]
  },
  {
   "cell_type": "markdown",
   "metadata": {},
   "source": [
    "```python\n",
    "from email.mime.multipart import MIMEMultipart\n",
    "from email.mime.text import MIMEText\n",
    "import smtplib\n",
    "\n",
    "def send_html_email(sender, recipient, subject, html_content, text_content):\n",
    "    # Create the root message and fill in the from, to, and subject headers\n",
    "    msg = MIMEMultipart('alternative')\n",
    "    msg['Subject'] = subject\n",
    "    msg['From'] = sender\n",
    "    msg['To'] = recipient\n",
    "\n",
    "    # Record the MIME types of both parts - text/plain and text/html\n",
    "    part1 = MIMEText(text_content, 'plain')\n",
    "    part2 = MIMEText(html_content, 'html')\n",
    "\n",
    "    # Attach parts into message container\n",
    "    # According to RFC 2046, the last part of a multipart message is best and preferred\n",
    "    msg.attach(part1)\n",
    "    msg.attach(part2)\n",
    "\n",
    "    # Send the message via local SMTP server\n",
    "    with smtplib.SMTP('smtp.gmail.com', 587) as s:\n",
    "        s.starttls()\n",
    "        s.login(sender, 'your_password')\n",
    "        s.send_message(msg)\n",
    "        print(\"Email sent successfully!\")\n",
    "\n",
    "# Usage\n",
    "html_content = \"\"\"\n",
    "<html>\n",
    "  <body>\n",
    "    <h1>Hello, World!</h1>\n",
    "    <p>This is an <b>HTML</b> email sent from <i>Python</i>.</p>\n",
    "    <p>Here's a list:\n",
    "      <ul>\n",
    "        <li>Item 1</li>\n",
    "        <li>Item 2</li>\n",
    "        <li>Item 3</li>\n",
    "      </ul>\n",
    "    </p>\n",
    "  </body>\n",
    "</html>\n",
    "\"\"\"\n",
    "\n",
    "text_content = \"\"\"\n",
    "Hello, World!\n",
    "This is a plain text version of the HTML email sent from Python.\n",
    "Here's a list:\n",
    "- Item 1\n",
    "- Item 2\n",
    "- Item 3\n",
    "\"\"\"\n",
    "\n",
    "send_html_email(\n",
    "    \"sender@example.com\",\n",
    "    \"recipient@example.com\",\n",
    "    \"HTML Email Test\",\n",
    "    html_content,\n",
    "    text_content\n",
    ")\n",
    "```"
   ]
  },
  {
   "cell_type": "markdown",
   "metadata": {},
   "source": [
    "### <a id='toc3_4_'></a>[Best Practices for HTML Emails](#toc0_)\n"
   ]
  },
  {
   "cell_type": "markdown",
   "metadata": {},
   "source": [
    "1. **Always include a plain text alternative**: Some email clients or users prefer plain text, and it helps with deliverability.\n",
    "\n",
    "2. **Use inline CSS**: Many email clients strip out `<style>` tags, so use inline styles for consistent rendering.\n",
    "\n",
    "3. **Keep it simple**: Complex layouts can break in some email clients. Stick to simple, table-based layouts for best compatibility.\n",
    "\n",
    "4. **Test across multiple clients**: Email rendering can vary widely between clients. Test your emails in various popular email clients.\n",
    "\n",
    "5. **Optimize images**: Use appropriate file formats and sizes to ensure quick loading, especially on mobile devices.\n",
    "\n",
    "6. **Be mindful of spam filters**: Avoid excessive use of images, certain words, or all-caps that might trigger spam filters.\n"
   ]
  },
  {
   "cell_type": "markdown",
   "metadata": {},
   "source": [
    "### <a id='toc3_5_'></a>[Adding Images to HTML Emails](#toc0_)\n"
   ]
  },
  {
   "cell_type": "markdown",
   "metadata": {},
   "source": [
    "To include images in your HTML email, you can either link to external images or embed them directly in the email using base64 encoding. Here's an example of linking to an external image:\n"
   ]
  },
  {
   "cell_type": "markdown",
   "metadata": {},
   "source": [
    "```python\n",
    "html_content = \"\"\"\n",
    "<html>\n",
    "  <body>\n",
    "    <h1>Check out this image!</h1>\n",
    "    <img src=\"https://example.com/image.jpg\" alt=\"An example image\" style=\"width:100%; max-width:600px;\">\n",
    "  </body>\n",
    "</html>\n",
    "\"\"\"\n",
    "```\n"
   ]
  },
  {
   "cell_type": "markdown",
   "metadata": {},
   "source": [
    "💡 **Pro Tip:** When using external images, be aware that some email clients block external images by default for security reasons.\n"
   ]
  },
  {
   "cell_type": "markdown",
   "metadata": {},
   "source": [
    "### <a id='toc3_6_'></a>[Creating Responsive HTML Emails](#toc0_)\n"
   ]
  },
  {
   "cell_type": "markdown",
   "metadata": {},
   "source": [
    "To ensure your emails look good on both desktop and mobile devices, consider using responsive design techniques:\n"
   ]
  },
  {
   "cell_type": "markdown",
   "metadata": {},
   "source": [
    "```html\n",
    "<html>\n",
    "  <head>\n",
    "    <style>\n",
    "      @media only screen and (max-width: 600px) {\n",
    "        .container {\n",
    "          width: 100% !important;\n",
    "        }\n",
    "      }\n",
    "    </style>\n",
    "  </head>\n",
    "  <body>\n",
    "    <table class=\"container\" width=\"600\" style=\"max-width: 600px; margin: auto;\">\n",
    "      <tr>\n",
    "        <td>\n",
    "          <h1>Responsive Email</h1>\n",
    "          <p>This email will adjust to screen size.</p>\n",
    "        </td>\n",
    "      </tr>\n",
    "    </table>\n",
    "  </body>\n",
    "</html>\n",
    "```\n"
   ]
  },
  {
   "cell_type": "markdown",
   "metadata": {},
   "source": [
    "### <a id='toc3_7_'></a>[Using Email Templates](#toc0_)\n"
   ]
  },
  {
   "cell_type": "markdown",
   "metadata": {},
   "source": [
    "For more complex HTML emails, consider using a templating engine like Jinja2:\n"
   ]
  },
  {
   "cell_type": "markdown",
   "metadata": {},
   "source": [
    "```python\n",
    "from jinja2 import Template\n",
    "\n",
    "template_string = \"\"\"\n",
    "<html>\n",
    "  <body>\n",
    "    <h1>Hello, {{ name }}!</h1>\n",
    "    <p>Your account balance is ${{ balance }}.</p>\n",
    "  </body>\n",
    "</html>\n",
    "\"\"\"\n",
    "\n",
    "template = Template(template_string)\n",
    "html_content = template.render(name=\"John Doe\", balance=1000)\n",
    "```\n"
   ]
  },
  {
   "cell_type": "markdown",
   "metadata": {},
   "source": [
    "🔑 **Key Takeaway:** HTML emails offer powerful formatting and design options, but require careful consideration of email client compatibility and best practices for optimal delivery and rendering.\n"
   ]
  },
  {
   "cell_type": "markdown",
   "metadata": {},
   "source": [
    "By mastering HTML email creation in Python, you can create more engaging and visually appealing emails for your recipients. Whether you're sending newsletters, promotional content, or rich informational emails, these techniques will help you craft effective HTML emails programmatically."
   ]
  },
  {
   "cell_type": "markdown",
   "metadata": {},
   "source": [
    "## <a id='toc4_'></a>[Handling Email Attachments](#toc0_)"
   ]
  },
  {
   "cell_type": "markdown",
   "metadata": {},
   "source": [
    "Attaching files to emails is a common requirement in many applications, from sending reports to sharing documents. Python provides robust capabilities for handling email attachments, allowing you to send various file types with ease.\n"
   ]
  },
  {
   "cell_type": "markdown",
   "metadata": {},
   "source": [
    "### <a id='toc4_1_'></a>[Why Use Email Attachments?](#toc0_)\n"
   ]
  },
  {
   "cell_type": "markdown",
   "metadata": {},
   "source": [
    "Email attachments allow you to:\n",
    "- Share documents, images, or other files directly within an email\n",
    "- Send larger amounts of data than what can be comfortably included in the email body\n",
    "- Maintain the original format and integrity of files\n"
   ]
  },
  {
   "cell_type": "markdown",
   "metadata": {},
   "source": [
    "### <a id='toc4_2_'></a>[Adding Attachments to Emails](#toc0_)\n"
   ]
  },
  {
   "cell_type": "markdown",
   "metadata": {},
   "source": [
    "To add attachments to an email, we'll use the `email.mime.multipart.MIMEMultipart` and `email.mime.base.MIMEBase` classes, along with the `email.encoders` module.\n"
   ]
  },
  {
   "cell_type": "markdown",
   "metadata": {},
   "source": [
    "Here's a basic example of how to send an email with an attachment:\n"
   ]
  },
  {
   "cell_type": "markdown",
   "metadata": {},
   "source": [
    "```python\n",
    "import smtplib\n",
    "from email.mime.multipart import MIMEMultipart\n",
    "from email.mime.text import MIMEText\n",
    "from email.mime.base import MIMEBase\n",
    "from email import encoders\n",
    "import os\n",
    "\n",
    "def send_email_with_attachment(sender, recipient, subject, body, file_path):\n",
    "    # Create the email message\n",
    "    msg = MIMEMultipart()\n",
    "    msg['From'] = sender\n",
    "    msg['To'] = recipient\n",
    "    msg['Subject'] = subject\n",
    "\n",
    "    # Add body to email\n",
    "    msg.attach(MIMEText(body, 'plain'))\n",
    "\n",
    "    # Open the file in bynary\n",
    "    binary_file = open(file_path, 'rb')\n",
    "\n",
    "    payload = MIMEBase('application', 'octate-stream', Name=os.path.basename(file_path))\n",
    "    payload.set_payload((binary_file).read())\n",
    "\n",
    "    # Encode the payload using Base64\n",
    "    encoders.encode_base64(payload)\n",
    "\n",
    "    # Add header with pdf name\n",
    "    payload.add_header('Content-Decomposition', 'attachment', filename=os.path.basename(file_path))\n",
    "    msg.attach(payload)\n",
    "\n",
    "    # Create SMTP session\n",
    "    with smtplib.SMTP('smtp.gmail.com', 587) as session:\n",
    "        session.starttls()\n",
    "        session.login(sender, 'your_password')\n",
    "        text = msg.as_string()\n",
    "        session.sendmail(sender, recipient, text)\n",
    "        print('Email sent successfully')\n",
    "\n",
    "# Usage\n",
    "send_email_with_attachment(\n",
    "    'sender@example.com',\n",
    "    'recipient@example.com',\n",
    "    'Email with Attachment',\n",
    "    'Please find the attached file.',\n",
    "    '/path/to/your/file.pdf'\n",
    ")\n",
    "```\n"
   ]
  },
  {
   "cell_type": "markdown",
   "metadata": {},
   "source": [
    "### <a id='toc4_3_'></a>[Handling Multiple Attachments](#toc0_)\n"
   ]
  },
  {
   "cell_type": "markdown",
   "metadata": {},
   "source": [
    "To send multiple attachments, you can simply repeat the attachment process for each file:\n"
   ]
  },
  {
   "cell_type": "markdown",
   "metadata": {},
   "source": [
    "```python\n",
    "def add_attachment(msg, file_path):\n",
    "    with open(file_path, 'rb') as file:\n",
    "        part = MIMEBase('application', 'octet-stream')\n",
    "        part.set_payload(file.read())\n",
    "    encoders.encode_base64(part)\n",
    "    part.add_header('Content-Disposition', f'attachment; filename=\"{os.path.basename(file_path)}\"')\n",
    "    msg.attach(part)\n",
    "\n",
    "def send_email_with_multiple_attachments(sender, recipient, subject, body, file_paths):\n",
    "    msg = MIMEMultipart()\n",
    "    msg['From'] = sender\n",
    "    msg['To'] = recipient\n",
    "    msg['Subject'] = subject\n",
    "    msg.attach(MIMEText(body, 'plain'))\n",
    "\n",
    "    for file_path in file_paths:\n",
    "        add_attachment(msg, file_path)\n",
    "\n",
    "    # Send the email (SMTP setup and sending code here)\n",
    "```\n"
   ]
  },
  {
   "cell_type": "markdown",
   "metadata": {},
   "source": [
    "### <a id='toc4_4_'></a>[Best Practices for Email Attachments](#toc0_)\n"
   ]
  },
  {
   "cell_type": "markdown",
   "metadata": {},
   "source": [
    "1. **File Size Limits**: Be aware of email size limits. Many email providers have a maximum attachment size (often around 25MB).\n",
    "\n",
    "2. **File Types**: Some file types (like executables) may be blocked by email servers. Stick to common document and media formats when possible.\n",
    "\n",
    "3. **Compression**: For large files, consider compressing them before attaching to reduce the email size.\n",
    "\n",
    "4. **Naming Conventions**: Use clear, descriptive names for your attachments, avoiding special characters.\n",
    "\n",
    "5. **Security**: Be cautious about the content you're sending. Avoid sending sensitive information in unencrypted attachments.\n"
   ]
  },
  {
   "cell_type": "markdown",
   "metadata": {},
   "source": [
    "### <a id='toc4_5_'></a>[Handling Different File Types](#toc0_)\n"
   ]
  },
  {
   "cell_type": "markdown",
   "metadata": {},
   "source": [
    "Different file types may require different MIME types. Here are some common ones:\n",
    "\n",
    "- PDF: `application/pdf`\n",
    "- Images (JPEG): `image/jpeg`\n",
    "- Word Document: `application/msword`\n",
    "- Excel Spreadsheet: `application/vnd.ms-excel`\n"
   ]
  },
  {
   "cell_type": "markdown",
   "metadata": {},
   "source": [
    "You can specify the MIME type when creating the `MIMEBase` object:\n"
   ]
  },
  {
   "cell_type": "markdown",
   "metadata": {},
   "source": [
    "```python\n",
    "part = MIMEBase('application', 'pdf')\n",
    "```\n"
   ]
  },
  {
   "cell_type": "markdown",
   "metadata": {},
   "source": [
    "### <a id='toc4_6_'></a>[Reading Attachments from Received Emails](#toc0_)\n"
   ]
  },
  {
   "cell_type": "markdown",
   "metadata": {},
   "source": [
    "When you're on the receiving end, you might need to extract attachments from emails. Here's a basic example using the `imaplib` library:\n"
   ]
  },
  {
   "cell_type": "markdown",
   "metadata": {},
   "source": [
    "```python\n",
    "import imaplib\n",
    "import email\n",
    "\n",
    "def get_attachments(email_message):\n",
    "    attachments = []\n",
    "    for part in email_message.walk():\n",
    "        if part.get_content_maintype() == 'multipart':\n",
    "            continue\n",
    "        if part.get('Content-Disposition') is None:\n",
    "            continue\n",
    "        fileName = part.get_filename()\n",
    "\n",
    "        if bool(fileName):\n",
    "            filePath = os.path.join('/path/to/attachment/dir', fileName)\n",
    "            with open(filePath, 'wb') as f:\n",
    "                f.write(part.get_payload(decode=True))\n",
    "            attachments.append(filePath)\n",
    "    return attachments\n",
    "\n",
    "# Connect to an IMAP server\n",
    "mail = imaplib.IMAP4_SSL('imap.gmail.com')\n",
    "mail.login('your_email@gmail.com', 'your_password')\n",
    "mail.select('inbox')\n",
    "\n",
    "# Search for specific emails (e.g., all emails)\n",
    "_, search_data = mail.search(None, 'ALL')\n",
    "\n",
    "for num in search_data[0].split():\n",
    "    _, data = mail.fetch(num, '(RFC822)')\n",
    "    email_body = data[0][1]\n",
    "    email_message = email.message_from_bytes(email_body)\n",
    "    \n",
    "    attachments = get_attachments(email_message)\n",
    "    print(f\"Attachments saved: {attachments}\")\n",
    "```\n"
   ]
  },
  {
   "cell_type": "markdown",
   "metadata": {},
   "source": [
    "🔑 **Key Takeaway:** Handling email attachments in Python involves working with MIME types and encodings. Whether you're sending or receiving attachments, understanding these concepts is crucial for effective email automation.\n"
   ]
  },
  {
   "cell_type": "markdown",
   "metadata": {},
   "source": [
    "By mastering the handling of email attachments, you can greatly expand the capabilities of your email-based Python applications, enabling more complex and data-rich communications."
   ]
  },
  {
   "cell_type": "markdown",
   "metadata": {},
   "source": [
    "## <a id='toc5_'></a>[Sending Emails to Multiple Recipients](#toc0_)"
   ]
  },
  {
   "cell_type": "markdown",
   "metadata": {},
   "source": [
    "When it comes to email automation, the ability to send emails to multiple recipients is crucial. Whether you're distributing newsletters, sending team updates, or managing a mailing list, understanding how to efficiently handle multiple recipients in Python is essential.\n"
   ]
  },
  {
   "cell_type": "markdown",
   "metadata": {},
   "source": [
    "### <a id='toc5_1_'></a>[Types of Multiple Recipients](#toc0_)\n"
   ]
  },
  {
   "cell_type": "markdown",
   "metadata": {},
   "source": [
    "In email, there are three types of recipients:\n",
    "\n",
    "1. **To**: The primary recipients of the email.\n",
    "2. **Cc** (Carbon Copy): Secondary recipients whose names are visible to all other recipients.\n",
    "3. **Bcc** (Blind Carbon Copy): Recipients whose names are not visible to other recipients.\n"
   ]
  },
  {
   "cell_type": "markdown",
   "metadata": {},
   "source": [
    "### <a id='toc5_2_'></a>[Basic Approach to Sending to Multiple Recipients](#toc0_)\n"
   ]
  },
  {
   "cell_type": "markdown",
   "metadata": {},
   "source": [
    "Here's a simple way to send an email to multiple recipients using Python's `smtplib`:\n"
   ]
  },
  {
   "cell_type": "markdown",
   "metadata": {},
   "source": [
    "```python\n",
    "import smtplib\n",
    "from email.mime.text import MIMEText\n",
    "from email.mime.multipart import MIMEMultipart\n",
    "\n",
    "def send_email_to_multiple_recipients(sender, recipients, subject, body):\n",
    "    msg = MIMEMultipart()\n",
    "    msg['From'] = sender\n",
    "    msg['To'] = ', '.join(recipients)  # Join all recipients with commas\n",
    "    msg['Subject'] = subject\n",
    "    msg.attach(MIMEText(body, 'plain'))\n",
    "\n",
    "    smtp_server = \"smtp.gmail.com\"\n",
    "    port = 587  # For starttls\n",
    "    password = \"your_password_here\"\n",
    "\n",
    "    try:\n",
    "        with smtplib.SMTP(smtp_server, port) as server:\n",
    "            server.starttls()\n",
    "            server.login(sender, password)\n",
    "            server.send_message(msg)\n",
    "            print(\"Email sent successfully!\")\n",
    "    except Exception as e:\n",
    "        print(f\"An error occurred: {e}\")\n",
    "\n",
    "# Usage\n",
    "sender = \"your_email@gmail.com\"\n",
    "recipients = [\"recipient1@example.com\", \"recipient2@example.com\", \"recipient3@example.com\"]\n",
    "subject = \"Group Announcement\"\n",
    "body = \"This is a test email sent to multiple recipients.\"\n",
    "\n",
    "send_email_to_multiple_recipients(sender, recipients, subject, body)\n",
    "```\n"
   ]
  },
  {
   "cell_type": "markdown",
   "metadata": {},
   "source": [
    "### <a id='toc5_3_'></a>[Using Cc and Bcc](#toc0_)\n"
   ]
  },
  {
   "cell_type": "markdown",
   "metadata": {},
   "source": [
    "To include Cc and Bcc recipients, you can modify the above function:\n"
   ]
  },
  {
   "cell_type": "markdown",
   "metadata": {},
   "source": [
    "```python\n",
    "def send_email_with_cc_bcc(sender, to_recipients, cc_recipients, bcc_recipients, subject, body):\n",
    "    msg = MIMEMultipart()\n",
    "    msg['From'] = sender\n",
    "    msg['To'] = ', '.join(to_recipients)\n",
    "    msg['Cc'] = ', '.join(cc_recipients)\n",
    "    msg['Subject'] = subject\n",
    "    msg.attach(MIMEText(body, 'plain'))\n",
    "\n",
    "    # Combine all recipients for sending\n",
    "    all_recipients = to_recipients + cc_recipients + bcc_recipients\n",
    "\n",
    "    # SMTP setup and sending (as in the previous example)\n",
    "    # ...\n",
    "\n",
    "# Usage\n",
    "sender = \"your_email@gmail.com\"\n",
    "to_recipients = [\"primary1@example.com\", \"primary2@example.com\"]\n",
    "cc_recipients = [\"cc1@example.com\", \"cc2@example.com\"]\n",
    "bcc_recipients = [\"bcc1@example.com\", \"bcc2@example.com\"]\n",
    "subject = \"Meeting Minutes\"\n",
    "body = \"Please find attached the minutes from our recent meeting.\"\n",
    "\n",
    "send_email_with_cc_bcc(sender, to_recipients, cc_recipients, bcc_recipients, subject, body)\n",
    "```\n"
   ]
  },
  {
   "cell_type": "markdown",
   "metadata": {},
   "source": [
    "### <a id='toc5_4_'></a>[Best Practices for Sending to Multiple Recipients](#toc0_)\n"
   ]
  },
  {
   "cell_type": "markdown",
   "metadata": {},
   "source": [
    "1. **Use BCC for Large Lists**: When sending to a large number of recipients, use BCC to protect their privacy and prevent reply-all chaos.\n",
    "\n",
    "2. **Respect Anti-Spam Laws**: Ensure you have permission to email all recipients and include an unsubscribe option in mass emails.\n",
    "\n",
    "3. **Personalization**: Consider personalizing emails when possible, even when sending to multiple recipients.\n",
    "\n",
    "4. **Batch Sending**: For very large lists, consider sending in batches to avoid overwhelming your SMTP server or triggering spam filters.\n"
   ]
  },
  {
   "cell_type": "markdown",
   "metadata": {},
   "source": [
    "### <a id='toc5_5_'></a>[Personalization for Multiple Recipients](#toc0_)\n"
   ]
  },
  {
   "cell_type": "markdown",
   "metadata": {},
   "source": [
    "Here's an example of how you might personalize emails for multiple recipients:\n"
   ]
  },
  {
   "cell_type": "markdown",
   "metadata": {},
   "source": [
    "```python\n",
    "from jinja2 import Template\n",
    "\n",
    "def send_personalized_emails(sender, recipients, subject_template, body_template):\n",
    "    subject_tmpl = Template(subject_template)\n",
    "    body_tmpl = Template(body_template)\n",
    "\n",
    "    for recipient in recipients:\n",
    "        personalized_subject = subject_tmpl.render(name=recipient['name'])\n",
    "        personalized_body = body_tmpl.render(name=recipient['name'], info=recipient['info'])\n",
    "\n",
    "        msg = MIMEMultipart()\n",
    "        msg['From'] = sender\n",
    "        msg['To'] = recipient['email']\n",
    "        msg['Subject'] = personalized_subject\n",
    "        msg.attach(MIMEText(personalized_body, 'plain'))\n",
    "\n",
    "        # SMTP setup and sending for each personalized email\n",
    "        # ...\n",
    "\n",
    "# Usage\n",
    "recipients = [\n",
    "    {\"name\": \"Alice\", \"email\": \"alice@example.com\", \"info\": \"Team Lead\"},\n",
    "    {\"name\": \"Bob\", \"email\": \"bob@example.com\", \"info\": \"Developer\"},\n",
    "    {\"name\": \"Charlie\", \"email\": \"charlie@example.com\", \"info\": \"Designer\"}\n",
    "]\n",
    "\n",
    "subject_template = \"Hello {{ name }}, here's your update\"\n",
    "body_template = \"\"\"\n",
    "Dear {{ name }},\n",
    "\n",
    "This is your personalized update. As our {{ info }}, we wanted to inform you about...\n",
    "\n",
    "Best regards,\n",
    "The Management Team\n",
    "\"\"\"\n",
    "\n",
    "send_personalized_emails(\"sender@example.com\", recipients, subject_template, body_template)\n",
    "```\n"
   ]
  },
  {
   "cell_type": "markdown",
   "metadata": {},
   "source": [
    "### <a id='toc5_6_'></a>[Handling Bounced Emails](#toc0_)\n"
   ]
  },
  {
   "cell_type": "markdown",
   "metadata": {},
   "source": [
    "When sending to multiple recipients, it's important to handle bounced emails:\n"
   ]
  },
  {
   "cell_type": "markdown",
   "metadata": {},
   "source": [
    "```python\n",
    "def send_with_bounce_handling(sender, recipients, subject, body):\n",
    "    msg = MIMEMultipart()\n",
    "    msg['From'] = sender\n",
    "    msg['Subject'] = subject\n",
    "    msg.attach(MIMEText(body, 'plain'))\n",
    "\n",
    "    smtp_server = \"smtp.gmail.com\"\n",
    "    port = 587\n",
    "\n",
    "    try:\n",
    "        with smtplib.SMTP(smtp_server, port) as server:\n",
    "            server.starttls()\n",
    "            server.login(sender, \"your_password\")\n",
    "            \n",
    "            failed_recipients = {}\n",
    "            for recipient in recipients:\n",
    "                msg['To'] = recipient\n",
    "                try:\n",
    "                    server.send_message(msg)\n",
    "                    print(f\"Email sent to {recipient}\")\n",
    "                except smtplib.SMTPException as e:\n",
    "                    failed_recipients[recipient] = str(e)\n",
    "            \n",
    "            if failed_recipients:\n",
    "                print(\"Failed to send to some recipients:\")\n",
    "                for recipient, error in failed_recipients.items():\n",
    "                    print(f\"{recipient}: {error}\")\n",
    "    except Exception as e:\n",
    "        print(f\"An error occurred: {e}\")\n",
    "```\n"
   ]
  },
  {
   "cell_type": "markdown",
   "metadata": {},
   "source": [
    "🔑 **Key Takeaway:** Sending emails to multiple recipients involves more than just adding multiple addresses. Consider privacy, personalization, and proper handling of different recipient types (To, Cc, Bcc) for effective email communication.\n"
   ]
  },
  {
   "cell_type": "markdown",
   "metadata": {},
   "source": [
    "By mastering these techniques, you can create powerful email automation systems capable of handling complex mailing scenarios, from personalized bulk emails to carefully managed group communications."
   ]
  },
  {
   "cell_type": "markdown",
   "metadata": {},
   "source": [
    "## <a id='toc6_'></a>[Advanced Topics: Email Templates and Personalization](#toc0_)"
   ]
  },
  {
   "cell_type": "markdown",
   "metadata": {},
   "source": [
    "As you advance in your email automation journey, you'll likely encounter scenarios that require more sophisticated email content creation. This is where email templates and personalization come into play, allowing you to create dynamic, tailored emails at scale.\n"
   ]
  },
  {
   "cell_type": "markdown",
   "metadata": {},
   "source": [
    "### <a id='toc6_1_'></a>[Why Use Email Templates and Personalization?](#toc0_)\n"
   ]
  },
  {
   "cell_type": "markdown",
   "metadata": {},
   "source": [
    "1. **Consistency**: Maintain a consistent brand voice and structure across all communications.\n",
    "2. **Efficiency**: Save time by reusing templates instead of writing emails from scratch.\n",
    "3. **Personalization**: Increase engagement by tailoring content to individual recipients.\n",
    "4. **Scalability**: Easily manage and update email content for large-scale sending.\n"
   ]
  },
  {
   "cell_type": "markdown",
   "metadata": {},
   "source": [
    "### <a id='toc6_2_'></a>[Using Jinja2 for Email Templates](#toc0_)\n"
   ]
  },
  {
   "cell_type": "markdown",
   "metadata": {},
   "source": [
    "Jinja2 is a powerful and flexible templating engine for Python. It's particularly well-suited for creating email templates. Here's how you can use it:\n"
   ]
  },
  {
   "cell_type": "markdown",
   "metadata": {},
   "source": [
    "First, install Jinja2:\n",
    "\n",
    "```\n",
    "pip install Jinja2\n",
    "```\n"
   ]
  },
  {
   "cell_type": "markdown",
   "metadata": {},
   "source": [
    "Now, let's create a simple email template:\n"
   ]
  },
  {
   "cell_type": "markdown",
   "metadata": {},
   "source": [
    "```python\n",
    "from jinja2 import Template\n",
    "\n",
    "html_template = \"\"\"\n",
    "<html>\n",
    "<body>\n",
    "    <h1>Hello, {{ name }}!</h1>\n",
    "    <p>We noticed you've been using our {{ product }} for {{ days }} days.</p>\n",
    "    {% if days > 30 %}\n",
    "    <p>As a valued long-term user, we'd like to offer you a special discount!</p>\n",
    "    {% else %}\n",
    "    <p>We hope you're enjoying it so far!</p>\n",
    "    {% endif %}\n",
    "    <p>Best regards,<br>The {{ team }} Team</p>\n",
    "</body>\n",
    "</html>\n",
    "\"\"\"\n",
    "\n",
    "def generate_email(template_string, **kwargs):\n",
    "    template = Template(template_string)\n",
    "    return template.render(**kwargs)\n",
    "\n",
    "# Usage\n",
    "email_content = generate_email(html_template, \n",
    "                               name=\"Alice\", \n",
    "                               product=\"SuperApp\", \n",
    "                               days=45, \n",
    "                               team=\"Customer Success\")\n",
    "\n",
    "print(email_content)\n",
    "```\n"
   ]
  },
  {
   "cell_type": "markdown",
   "metadata": {},
   "source": [
    "### <a id='toc6_3_'></a>[Creating Reusable Template Files](#toc0_)\n"
   ]
  },
  {
   "cell_type": "markdown",
   "metadata": {},
   "source": [
    "For more complex templates, it's better to store them in separate files:\n"
   ]
  },
  {
   "cell_type": "markdown",
   "metadata": {},
   "source": [
    "```python\n",
    "from jinja2 import Environment, FileSystemLoader\n",
    "\n",
    "# Set up the Jinja2 environment\n",
    "env = Environment(loader=FileSystemLoader('templates'))\n",
    "\n",
    "def generate_email_from_file(template_name, **kwargs):\n",
    "    template = env.get_template(template_name)\n",
    "    return template.render(**kwargs)\n",
    "\n",
    "# Usage\n",
    "email_content = generate_email_from_file('welcome_email.html', \n",
    "                                         name=\"Bob\", \n",
    "                                         product=\"MegaTool\")\n",
    "```\n"
   ]
  },
  {
   "cell_type": "markdown",
   "metadata": {},
   "source": [
    "In this case, you'd have a file named `welcome_email.html` in a `templates` directory.\n"
   ]
  },
  {
   "cell_type": "markdown",
   "metadata": {},
   "source": [
    "### <a id='toc6_4_'></a>[Advanced Personalization Techniques](#toc0_)\n"
   ]
  },
  {
   "cell_type": "markdown",
   "metadata": {},
   "source": [
    "1. **Dynamic Content Blocks**\n",
    "\n",
    "You can use Jinja2's `{% if %}` statements to include or exclude entire sections based on user data:\n",
    "\n",
    "```html\n",
    "{% if user.subscription_tier == 'premium' %}\n",
    "<section class=\"premium-content\">\n",
    "    <h2>Exclusive Premium Content</h2>\n",
    "    <p>Here's some special content just for our premium subscribers!</p>\n",
    "</section>\n",
    "{% endif %}\n",
    "```\n"
   ]
  },
  {
   "cell_type": "markdown",
   "metadata": {},
   "source": [
    "2. **Loops for Dynamic Lists**\n",
    "\n",
    "Use loops to generate dynamic content, like product recommendations:\n",
    "\n",
    "```html\n",
    "<h2>Recommended for You</h2>\n",
    "<ul>\n",
    "{% for product in recommended_products %}\n",
    "    <li>{{ product.name }} - ${{ product.price }}</li>\n",
    "{% endfor %}\n",
    "</ul>\n",
    "```\n"
   ]
  },
  {
   "cell_type": "markdown",
   "metadata": {},
   "source": [
    "3. **Filters for Data Formatting**\n",
    "\n",
    "Jinja2 filters can help format data in your templates:\n",
    "\n",
    "```html\n",
    "<p>Your subscription will renew on {{ renewal_date|date_format('%B %d, %Y') }}.</p>\n",
    "```\n",
    "\n",
    "You'd need to define the `date_format` filter in your Python code.\n"
   ]
  },
  {
   "cell_type": "markdown",
   "metadata": {},
   "source": [
    "### <a id='toc6_5_'></a>[Handling Complex Data Structures](#toc0_)\n"
   ]
  },
  {
   "cell_type": "markdown",
   "metadata": {},
   "source": [
    "Sometimes you'll need to work with more complex data structures in your templates. Jinja2 can handle nested dictionaries and lists with ease:\n"
   ]
  },
  {
   "cell_type": "markdown",
   "metadata": {},
   "source": [
    "```python\n",
    "user_data = {\n",
    "    'name': 'Charlie',\n",
    "    'purchases': [\n",
    "        {'item': 'Widget A', 'price': 19.99},\n",
    "        {'item': 'Gadget B', 'price': 29.99}\n",
    "    ],\n",
    "    'total_spent': 49.98\n",
    "}\n",
    "\n",
    "template_string = \"\"\"\n",
    "<h1>Thank you for your purchase, {{ name }}!</h1>\n",
    "<h2>Your Items:</h2>\n",
    "<ul>\n",
    "{% for purchase in purchases %}\n",
    "    <li>{{ purchase.item }} - ${{ purchase.price }}</li>\n",
    "{% endfor %}\n",
    "</ul>\n",
    "<p>Total: ${{ total_spent }}</p>\n",
    "\"\"\"\n",
    "\n",
    "email_content = generate_email(template_string, **user_data)\n",
    "```\n"
   ]
  },
  {
   "cell_type": "markdown",
   "metadata": {},
   "source": [
    "### <a id='toc6_6_'></a>[Best Practices for Email Templates and Personalization](#toc0_)\n"
   ]
  },
  {
   "cell_type": "markdown",
   "metadata": {},
   "source": [
    "1. **Test Thoroughly**: Always test your templates with various data inputs to ensure they render correctly in all scenarios.\n",
    "\n",
    "2. **Use Fallback Values**: Provide default values for optional template variables to prevent errors:\n",
    "   ```html\n",
    "   <p>Hello, {{ name|default('Valued Customer') }}!</p>\n",
    "   ```\n",
    "\n",
    "3. **Keep It Simple**: While powerful, overly complex templates can be hard to maintain. Strike a balance between flexibility and simplicity.\n",
    "\n",
    "4. **Modular Design**: Break your templates into reusable components. Jinja2 supports template inheritance and includes, which can help organize complex email designs.\n",
    "\n",
    "5. **Responsive Design**: Ensure your HTML templates are responsive for proper rendering on various devices and email clients.\n",
    "\n",
    "6. **Personalization Beyond Just Names**: Consider personalizing based on user behavior, preferences, or other relevant data points.\n",
    "\n",
    "7. **A/B Testing**: Use template variations to A/B test different email designs or content strategies.\n"
   ]
  },
  {
   "cell_type": "markdown",
   "metadata": {},
   "source": [
    "### <a id='toc6_7_'></a>[Integrating with Email Sending](#toc0_)\n"
   ]
  },
  {
   "cell_type": "markdown",
   "metadata": {},
   "source": [
    "To use these templates in your email sending function:\n"
   ]
  },
  {
   "cell_type": "markdown",
   "metadata": {},
   "source": [
    "```python\n",
    "from email.mime.text import MIMEText\n",
    "from email.mime.multipart import MIMEMultipart\n",
    "\n",
    "def send_personalized_email(sender, recipient, subject, template_name, **template_data):\n",
    "    msg = MIMEMultipart('alternative')\n",
    "    msg['Subject'] = subject\n",
    "    msg['From'] = sender\n",
    "    msg['To'] = recipient\n",
    "\n",
    "    # Generate HTML content\n",
    "    html_content = generate_email_from_file(template_name, **template_data)\n",
    "    \n",
    "    # Attach parts\n",
    "    msg.attach(MIMEText(html_content, 'html'))\n",
    "\n",
    "    # SMTP sending code here\n",
    "    # ...\n",
    "\n",
    "# Usage\n",
    "send_personalized_email('sender@example.com', \n",
    "                        'recipient@example.com', \n",
    "                        'Your Weekly Update', \n",
    "                        'weekly_update.html', \n",
    "                        name='David', \n",
    "                        points=250, \n",
    "                        level='Gold')\n",
    "```\n"
   ]
  },
  {
   "cell_type": "markdown",
   "metadata": {},
   "source": [
    "🔑 **Key Takeaway:** Email templates and personalization are powerful tools for creating engaging, dynamic email content at scale. By leveraging templating engines like Jinja2, you can create flexible, maintainable email templates that adapt to your users' individual characteristics and behaviors.\n"
   ]
  },
  {
   "cell_type": "markdown",
   "metadata": {},
   "source": [
    "Mastering these techniques allows you to create sophisticated email automation systems that can handle complex, personalized communication needs while maintaining efficiency and scalability."
   ]
  },
  {
   "cell_type": "markdown",
   "metadata": {},
   "source": [
    "## <a id='toc7_'></a>[Final Summary: Mastering Email Automation with Python](#toc0_)"
   ]
  },
  {
   "cell_type": "markdown",
   "metadata": {},
   "source": [
    "Throughout this lecture, we've explored the multifaceted world of email automation using Python. Let's recap the key points and reflect on the power and versatility of email handling in Python:\n",
    "\n",
    "1. **Foundation of Email Handling**: We began with an introduction to email handling in Python, understanding the basic components and libraries involved, particularly `smtplib` for sending emails.\n",
    "\n",
    "2. **Composing Emails**: We learned how to compose both simple text emails and more complex HTML emails, giving us the flexibility to create various types of email content.\n",
    "\n",
    "3. **Attachments**: The ability to handle email attachments opened up possibilities for sharing documents, reports, and other files programmatically.\n",
    "\n",
    "4. **Multiple Recipients**: We explored techniques for sending emails to multiple recipients, including the use of CC and BCC, essential for managing group communications and mailing lists.\n",
    "\n",
    "5. **Templates and Personalization**: Advanced topics like email templates and personalization demonstrated how to create dynamic, tailored email content at scale, significantly enhancing the effectiveness of email communications.\n"
   ]
  },
  {
   "cell_type": "markdown",
   "metadata": {},
   "source": [
    "Python's rich ecosystem of libraries and its straightforward syntax make it an excellent choice for email automation tasks. From simple scripts to complex email marketing systems, Python provides the tools and flexibility to handle a wide range of email-related challenges.\n"
   ]
  },
  {
   "cell_type": "markdown",
   "metadata": {},
   "source": [
    "Best practices for email automation include:\n",
    "- Always prioritize security, using encryption and proper authentication methods.\n",
    "- Respect email etiquette and anti-spam laws when sending bulk emails.\n",
    "- Test your email scripts thoroughly, especially when using templates or personalization.\n",
    "- Keep your code modular and well-documented for easy maintenance and scalability.\n",
    "- Stay updated with the latest email standards and best practices to ensure deliverability.\n"
   ]
  },
  {
   "cell_type": "markdown",
   "metadata": {},
   "source": [
    "As email continues to be a critical communication tool, the skills you've learned in this lecture will prove invaluable. Whether you're building automated notification systems, managing customer communications, or developing sophisticated email marketing campaigns, the foundations laid here will serve as a solid starting point.\n"
   ]
  },
  {
   "cell_type": "markdown",
   "metadata": {},
   "source": [
    "To further enhance your email automation skills, consider exploring:\n",
    "- Integration with web frameworks for building email-based web applications\n",
    "- Advanced email analytics and tracking\n",
    "- Machine learning for email content optimization and spam detection\n",
    "- Compliance with international email regulations (like GDPR)\n"
   ]
  },
  {
   "cell_type": "markdown",
   "metadata": {},
   "source": [
    "🔑 **Final Thought**: Email automation with Python is a powerful skill that bridges the gap between programming and effective communication. By mastering these techniques, you're well-equipped to create efficient, scalable, and sophisticated email systems that can significantly impact how organizations and individuals manage their communications.\n"
   ]
  },
  {
   "cell_type": "markdown",
   "metadata": {},
   "source": [
    "Remember, the world of email technology is ever-evolving, so keep learning and adapting your skills to stay at the forefront of email automation capabilities."
   ]
  }
 ],
 "metadata": {
  "language_info": {
   "name": "python"
  }
 },
 "nbformat": 4,
 "nbformat_minor": 2
}
