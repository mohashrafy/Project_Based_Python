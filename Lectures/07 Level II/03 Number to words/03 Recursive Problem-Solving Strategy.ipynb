{
 "cells": [
  {
   "cell_type": "markdown",
   "metadata": {},
   "source": [
    "<img src=\"./images/banner.png\" width=\"800\">"
   ]
  },
  {
   "cell_type": "markdown",
   "metadata": {},
   "source": [
    "# Recursive Problem-Solving Strategy"
   ]
  },
  {
   "cell_type": "markdown",
   "metadata": {},
   "source": [
    "In this notebook, we'll dive into the recursive problem-solving strategy. Recursion is a powerful tool in programming that can simplify the code for complex problems by breaking them down into simpler, more manageable parts. We will explore the divide and conquer approach, identify the base and recursive cases, and practice breaking down a problem into smaller sub-problems.\n"
   ]
  },
  {
   "cell_type": "markdown",
   "metadata": {},
   "source": [
    "**Table of contents**<a id='toc0_'></a>    \n",
    "- [Divide and Conquer Approach](#toc1_)    \n",
    "- [Identifying the Base Case and Recursive Case](#toc2_)    \n",
    "- [Sample Problem: Sum of Natural Numbers](#toc3_)    \n",
    "  - [Breaking Down the Problem](#toc3_1_)    \n",
    "  - [Function Skeleton for `sum_of_natural_numbers`](#toc3_2_)    \n",
    "- [Exercise](#toc4_)    \n",
    "  - [Solutions](#toc4_1_)    \n",
    "    - [Recursive Function to Compute Power of a Number:](#toc4_1_1_)    \n",
    "    - [Recursive Function to Count the Number of Digits in a Non-negative Integer:](#toc4_1_2_)    \n",
    "    - [Recursive Function to Find the Maximum Value in a List of Numbers:](#toc4_1_3_)    \n",
    "\n",
    "<!-- vscode-jupyter-toc-config\n",
    "\tnumbering=false\n",
    "\tanchor=true\n",
    "\tflat=false\n",
    "\tminLevel=2\n",
    "\tmaxLevel=6\n",
    "\t/vscode-jupyter-toc-config -->\n",
    "<!-- THIS CELL WILL BE REPLACED ON TOC UPDATE. DO NOT WRITE YOUR TEXT IN THIS CELL -->"
   ]
  },
  {
   "cell_type": "markdown",
   "metadata": {},
   "source": [
    "## <a id='toc1_'></a>[Divide and Conquer Approach](#toc0_)\n",
    "The divide and conquer strategy involves dividing a complex problem into smaller, more manageable sub-problems, solving each sub-problem individually, and then combining the solutions to solve the original problem.\n"
   ]
  },
  {
   "cell_type": "markdown",
   "metadata": {},
   "source": [
    "**Key Points:**\n",
    "- **Divide:** Break the problem down into several parts.\n",
    "- **Conquer:** Solve each part recursively.\n",
    "- **Combine:** Merge the solutions of the sub-problems to form the solution to the original problem.\n"
   ]
  },
  {
   "cell_type": "markdown",
   "metadata": {},
   "source": [
    "This strategy is particularly well-suited to recursive algorithms because it naturally leads to the definition of a base case and one or more recursive cases.\n"
   ]
  },
  {
   "cell_type": "markdown",
   "metadata": {},
   "source": [
    "## <a id='toc2_'></a>[Identifying the Base Case and Recursive Case](#toc0_)\n"
   ]
  },
  {
   "cell_type": "markdown",
   "metadata": {},
   "source": [
    "When designing a recursive function, it's crucial to identify at least one base case and at least one recursive case.\n"
   ]
  },
  {
   "cell_type": "markdown",
   "metadata": {},
   "source": [
    "**Base Case:**\n",
    "- The base case is a condition that stops the recursion by not making further calls. It typically represents the simplest form of the problem that can be solved directly, without further decomposition.\n"
   ]
  },
  {
   "cell_type": "markdown",
   "metadata": {},
   "source": [
    "**Recursive Case:**\n",
    "- The recursive case is a condition that breaks down the problem into smaller instances of the same problem, and then calls the same function with these new instances.\n"
   ]
  },
  {
   "cell_type": "markdown",
   "metadata": {},
   "source": [
    "**Key Points:**\n",
    "- A base case is needed to prevent infinite recursion.\n",
    "- A recursive case must progress toward the base case.\n",
    "- It's possible to have multiple base cases or recursive cases.\n"
   ]
  },
  {
   "cell_type": "markdown",
   "metadata": {},
   "source": [
    "## <a id='toc3_'></a>[Sample Problem: Sum of Natural Numbers](#toc0_)"
   ]
  },
  {
   "cell_type": "markdown",
   "metadata": {},
   "source": [
    "The problem is to calculate the sum of all natural numbers from 1 to `n`. This can be expressed with the equation `S(n) = 1 + 2 + 3 + ... + n`.\n"
   ]
  },
  {
   "cell_type": "markdown",
   "metadata": {},
   "source": [
    "### <a id='toc3_1_'></a>[Breaking Down the Problem](#toc0_)"
   ]
  },
  {
   "cell_type": "markdown",
   "metadata": {},
   "source": [
    "We can break this problem down by realizing that `S(n)` can be defined in terms of `S(n-1)`:\n",
    "- `S(n)` = `n + S(n-1)`\n"
   ]
  },
  {
   "cell_type": "markdown",
   "metadata": {},
   "source": [
    "This relationship is the key to formulating our recursive function.\n"
   ]
  },
  {
   "cell_type": "markdown",
   "metadata": {},
   "source": [
    "**Base Case:**\n",
    "- The base case occurs when `n` is 1. The sum of natural numbers up to 1 is straightforwardly 1.\n"
   ]
  },
  {
   "cell_type": "markdown",
   "metadata": {},
   "source": [
    "**Recursive Case:**\n",
    "- The recursive case uses the relationship `S(n) = n + S(n-1)` to reduce the problem size and call the function again with `n-1`.\n"
   ]
  },
  {
   "cell_type": "markdown",
   "metadata": {},
   "source": [
    "### <a id='toc3_2_'></a>[Function Skeleton for `sum_of_natural_numbers`](#toc0_)\n"
   ]
  },
  {
   "cell_type": "markdown",
   "metadata": {},
   "source": [
    "```python\n",
    "def sum_of_natural_numbers(n):\n",
    "    # Base case: sum of natural numbers up to 1\n",
    "    if n == 1:\n",
    "        return 1\n",
    "\n",
    "    # Recursive case: sum of natural numbers up to n\n",
    "    else:\n",
    "        return n + sum_of_natural_numbers(n - 1)\n",
    "```\n"
   ]
  },
  {
   "cell_type": "markdown",
   "metadata": {},
   "source": [
    "## <a id='toc4_'></a>[Exercise](#toc0_)"
   ]
  },
  {
   "cell_type": "markdown",
   "metadata": {},
   "source": [
    "Now, try to apply what you've learned to solve the following problems recursively. For each problem, identify the base case and the recursive case:\n",
    "\n",
    "1. Write a recursive function to compute the power of a number, `power(base, exponent)`.\n",
    "2. Write a recursive function to count the number of digits in a non-negative integer.\n",
    "3. Write a recursive function to find the maximum value in a list of numbers.\n"
   ]
  },
  {
   "cell_type": "markdown",
   "metadata": {},
   "source": [
    "For these exercises, remember to:\n",
    "\n",
    "- Clearly define the base case, which should be the simplest instance of the problem.\n",
    "- Ensure that the recursive case reduces the problem toward the base case.\n",
    "- Test your functions with different inputs to ensure they're functioning correctly and handle edge cases.\n"
   ]
  },
  {
   "cell_type": "markdown",
   "metadata": {},
   "source": [
    "By working through these exercises, you'll be better prepared to apply recursive thinking to a variety of problems, setting a solid foundation for more complex recursive functions, such as the `num_to_word` function in the main project."
   ]
  },
  {
   "cell_type": "markdown",
   "metadata": {},
   "source": [
    "### <a id='toc4_1_'></a>[Solutions](#toc0_)"
   ]
  },
  {
   "cell_type": "markdown",
   "metadata": {},
   "source": [
    "Here are the solutions for the practice problems:\n"
   ]
  },
  {
   "cell_type": "markdown",
   "metadata": {},
   "source": [
    "#### <a id='toc4_1_1_'></a>[Recursive Function to Compute Power of a Number:](#toc0_)"
   ]
  },
  {
   "cell_type": "markdown",
   "metadata": {},
   "source": [
    "To compute `base` raised to the power of `exponent`, we can use the fact that:\n",
    "`base^exponent = base * base^(exponent - 1)`.\n"
   ]
  },
  {
   "cell_type": "code",
   "execution_count": 1,
   "metadata": {},
   "outputs": [],
   "source": [
    "def power(base, exponent):\n",
    "    # Base case: any number raised to the power of 0 is 1\n",
    "    if exponent == 0:\n",
    "        return 1\n",
    "    # Recursive case: base^exponent = base * base^(exponent - 1)\n",
    "    else:\n",
    "        return base * power(base, exponent - 1)"
   ]
  },
  {
   "cell_type": "code",
   "execution_count": 2,
   "metadata": {},
   "outputs": [
    {
     "data": {
      "text/plain": [
       "8"
      ]
     },
     "execution_count": 2,
     "metadata": {},
     "output_type": "execute_result"
    }
   ],
   "source": [
    "power(2, 3)"
   ]
  },
  {
   "cell_type": "markdown",
   "metadata": {},
   "source": [
    "#### <a id='toc4_1_2_'></a>[Recursive Function to Count the Number of Digits in a Non-negative Integer:](#toc0_)"
   ]
  },
  {
   "cell_type": "markdown",
   "metadata": {},
   "source": [
    "To count the number of digits, we can repeatedly divide the number by 10 until it becomes 0. Each division is a step towards the base case and represents the stripping away of one digit.\n"
   ]
  },
  {
   "cell_type": "code",
   "execution_count": 4,
   "metadata": {},
   "outputs": [],
   "source": [
    "def count_digits(n):\n",
    "    # Base case: if n is 0, there are no digits left to count\n",
    "    if n == 0:\n",
    "        return 0\n",
    "    # Recursive case: strip off one digit and count the rest\n",
    "    else:\n",
    "        return 1 + count_digits(n // 10)\n"
   ]
  },
  {
   "cell_type": "code",
   "execution_count": 5,
   "metadata": {},
   "outputs": [
    {
     "data": {
      "text/plain": [
       "4"
      ]
     },
     "execution_count": 5,
     "metadata": {},
     "output_type": "execute_result"
    }
   ],
   "source": [
    "count_digits(1234)"
   ]
  },
  {
   "cell_type": "markdown",
   "metadata": {},
   "source": [
    "#### <a id='toc4_1_3_'></a>[Recursive Function to Find the Maximum Value in a List of Numbers:](#toc0_)"
   ]
  },
  {
   "cell_type": "markdown",
   "metadata": {},
   "source": [
    "To find the maximum value in a list, we can compare the first number with the maximum number in the remainder of the list.\n"
   ]
  },
  {
   "cell_type": "code",
   "execution_count": 6,
   "metadata": {},
   "outputs": [],
   "source": [
    "def find_max(lst, index=0):\n",
    "    # Base case: if we're at the last element, return it\n",
    "    if index == len(lst) - 1:\n",
    "        return lst[index]\n",
    "    # Recursive case: find the maximum in the remainder of the list\n",
    "    else:\n",
    "        # Recursively find the max in the rest of the list\n",
    "        max_in_rest = find_max(lst, index + 1)\n",
    "        # Return the greater of the current element and the max of the rest\n",
    "        return lst[index] if lst[index] > max_in_rest else max_in_rest"
   ]
  },
  {
   "cell_type": "code",
   "execution_count": 7,
   "metadata": {},
   "outputs": [
    {
     "data": {
      "text/plain": [
       "128"
      ]
     },
     "execution_count": 7,
     "metadata": {},
     "output_type": "execute_result"
    }
   ],
   "source": [
    "find_max([9, 8, 5, 99, 32, 128])"
   ]
  },
  {
   "cell_type": "markdown",
   "metadata": {},
   "source": [
    "Note that in the `count_digits` function, the base case is also when `n` is a single-digit number (less than 10), but to handle all non-negative integers consistently (including 0), the base case is defined for `n == 0`, and an initial check can be added to handle the 0 case separately if desired.\n"
   ]
  },
  {
   "cell_type": "markdown",
   "metadata": {},
   "source": [
    "For the `find_max` function, the `index` parameter is used to track the current position in the list. This way, we avoid copying lists (which is costly) and instead pass the index, which gets incremented with each recursive call. The base case is when the `index` reaches the last element, at which point we simply return it as there are no more elements to compare. The recursive case is comparing the current element with the maximum found in the rest of the list.\n"
   ]
  },
  {
   "cell_type": "markdown",
   "metadata": {},
   "source": [
    "With these examples, you've seen how recursion can simplify the process of writing functions to perform tasks that can be broken down into simpler, self-similar subtasks. These solutions will help you understand how to structure recursive functions and how to think recursively."
   ]
  }
 ],
 "metadata": {
  "kernelspec": {
   "display_name": "py310",
   "language": "python",
   "name": "python3"
  },
  "language_info": {
   "codemirror_mode": {
    "name": "ipython",
    "version": 3
   },
   "file_extension": ".py",
   "mimetype": "text/x-python",
   "name": "python",
   "nbconvert_exporter": "python",
   "pygments_lexer": "ipython3",
   "version": "3.10.12"
  }
 },
 "nbformat": 4,
 "nbformat_minor": 2
}
