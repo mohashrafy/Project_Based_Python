{
 "cells": [
  {
   "cell_type": "markdown",
   "metadata": {},
   "source": [
    "# Email Handling in Python"
   ]
  },
  {
   "cell_type": "markdown",
   "metadata": {},
   "source": [
    "In the world of automation, being able to programmatically send emails is a powerful tool. Python, with its vast array of libraries, provides a straightforward way to handle email communications. This includes sending emails, formatting them to look appealing, and even attaching files and images. In this Jupyter notebook, we will delve into the necessary steps to handle emails in Python.\n"
   ]
  },
  {
   "cell_type": "markdown",
   "metadata": {},
   "source": [
    "Emails are typically sent using the Simple Mail Transfer Protocol (SMTP), which is the standard protocol for email transmission across the Internet. Python's `smtplib` provides a convenient interface to interact with SMTP servers and send email messages. Furthermore, the `email` module offers capabilities to construct email messages, including plain text and HTML content, as well as attachments.\n"
   ]
  },
  {
   "cell_type": "markdown",
   "metadata": {},
   "source": [
    "In this notebook, we will cover the following topics:\n",
    "\n",
    "1. **Understanding the SMTP Protocol**: We'll start with a brief overview of how the SMTP protocol works and its role in sending emails.\n",
    "\n",
    "2. **Setting up an SMTP Server Connection Using `smtplib`**: We'll learn how to configure Python to connect to an SMTP server and authenticate ourselves so we can send emails.\n",
    "\n",
    "3. **Creating Email Messages Using the `email` Module**: We'll use Python's built-in `email` module to create both simple plain text emails and more complex, multipart messages with HTML content.\n",
    "\n",
    "4. **Formatting Plain Text and HTML Emails**: We'll explore how to format email content, providing tips for creating visually appealing and well-structured messages.\n",
    "\n",
    "5. **Attaching Files and Embedding Images**: For more advanced email construction, we'll discuss how to include attachments like PDFs or images, and how to embed images directly into the HTML body of an email message.\n"
   ]
  },
  {
   "cell_type": "markdown",
   "metadata": {},
   "source": [
    "By the end of this notebook, you will have a clear understanding of the basic principles and best practices for email handling in Python, equipping you with the skills to integrate email functionality into your own Python projects."
   ]
  },
  {
   "cell_type": "markdown",
   "metadata": {},
   "source": [
    "**Table of contents**<a id='toc0_'></a>    \n",
    "- [Understanding the SMTP Protocol](#toc1_)    \n",
    "  - [Basics of SMTP](#toc1_1_)    \n",
    "  - [SMTP is Not for Receiving Emails](#toc1_2_)    \n",
    "  - [Keeping Emails Safe](#toc1_3_)    \n",
    "- [Setting up an SMTP Server Connection Using `smtplib`](#toc2_)    \n",
    "  - [Introduction to `smtplib`](#toc2_1_)    \n",
    "  - [Getting Started with `smtplib`](#toc2_2_)    \n",
    "    - [Step 1: Import the `smtplib` Library](#toc2_2_1_)    \n",
    "    - [Step 2: Set Up the SMTP Server Connection](#toc2_2_2_)    \n",
    "    - [Step 3: Log In to the Server](#toc2_2_3_)    \n",
    "    - [Step 4: Send an Email](#toc2_2_4_)    \n",
    "    - [Step 5: Close the Connection](#toc2_2_5_)    \n",
    "  - [Handling Exceptions](#toc2_3_)    \n",
    "- [Creating Email Messages Using the `email` Module](#toc3_)    \n",
    "  - [Starting with the Basics](#toc3_1_)    \n",
    "  - [Composing the Email](#toc3_2_)    \n",
    "  - [Setting Email Headers](#toc3_3_)    \n",
    "  - [Adding the Email Body](#toc3_4_)    \n",
    "  - [Sending the Email](#toc3_5_)    \n",
    "- [Formatting Plain Text and HTML Emails](#toc4_)    \n",
    "  - [Plain Text Emails](#toc4_1_)    \n",
    "  - [HTML Emails](#toc4_2_)    \n",
    "  - [Combining Plain Text and HTML](#toc4_3_)    \n",
    "  - [Styling HTML Emails](#toc4_4_)    \n",
    "- [Attaching Files and Embedding Images](#toc5_)    \n",
    "  - [Attaching Files to an Email](#toc5_1_)    \n",
    "  - [Embedding Images in an Email](#toc5_2_)    \n",
    "\n",
    "<!-- vscode-jupyter-toc-config\n",
    "\tnumbering=false\n",
    "\tanchor=true\n",
    "\tflat=false\n",
    "\tminLevel=2\n",
    "\tmaxLevel=6\n",
    "\t/vscode-jupyter-toc-config -->\n",
    "<!-- THIS CELL WILL BE REPLACED ON TOC UPDATE. DO NOT WRITE YOUR TEXT IN THIS CELL -->"
   ]
  },
  {
   "cell_type": "markdown",
   "metadata": {},
   "source": [
    "## <a id='toc1_'></a>[Understanding the SMTP Protocol](#toc0_)"
   ]
  },
  {
   "cell_type": "markdown",
   "metadata": {},
   "source": [
    "SMTP, or Simple Mail Transfer Protocol, is the standard way email gets sent from one place to another on the Internet. Think of it like the postal service, but for email. It's a set of rules that help your email travel from your outbox to someone else's inbox.\n"
   ]
  },
  {
   "cell_type": "markdown",
   "metadata": {},
   "source": [
    "### <a id='toc1_1_'></a>[Basics of SMTP](#toc0_)\n"
   ]
  },
  {
   "cell_type": "markdown",
   "metadata": {},
   "source": [
    "When you send an email, it doesn't go straight to the recipient. Instead, it goes through a series of steps, kind of like how a letter goes through various post offices before reaching its destination.\n",
    "\n",
    "1. **Connecting**: Your email program (like Gmail or Outlook) says \"hello\" to an email server by connecting to it. This is the start of your email's journey.\n",
    "\n",
    "2. **Sending Info**: Next, your email program tells the server who the email is from and who it's for. It's like addressing an envelope.\n",
    "\n",
    "3. **Delivering the Message**: Now, your email program sends the actual message – the subject, the body, and any attachments – to the server.\n",
    "\n",
    "4. **Wrapping Up**: Once the server has the email, your email program says \"goodbye,\" and the connection ends.\n"
   ]
  },
  {
   "cell_type": "markdown",
   "metadata": {},
   "source": [
    "### <a id='toc1_2_'></a>[SMTP is Not for Receiving Emails](#toc0_)"
   ]
  },
  {
   "cell_type": "markdown",
   "metadata": {},
   "source": [
    "It's important to remember that SMTP is all about sending emails, not getting them. When you check your inbox, your email program uses different rules, or \"protocols,\" like IMAP or POP3.\n"
   ]
  },
  {
   "cell_type": "markdown",
   "metadata": {},
   "source": [
    "### <a id='toc1_3_'></a>[Keeping Emails Safe](#toc0_)\n"
   ]
  },
  {
   "cell_type": "markdown",
   "metadata": {},
   "source": [
    "Just like you wouldn't want anyone to read your private letters, you don't want them snooping on your emails either. That's why email servers use security measures like encryption with SSL or TLS. It's like sending your letter in a locked safe.\n",
    "\n",
    "In the next part of our journey, we'll learn how to use what you know about Python to talk to these email servers, send your own emails, and make sure they look good and get to where they're going safely."
   ]
  },
  {
   "cell_type": "markdown",
   "metadata": {},
   "source": [
    "## <a id='toc2_'></a>[Setting up an SMTP Server Connection Using `smtplib`](#toc0_)"
   ]
  },
  {
   "cell_type": "markdown",
   "metadata": {},
   "source": [
    "### <a id='toc2_1_'></a>[Introduction to `smtplib`](#toc0_)\n"
   ]
  },
  {
   "cell_type": "markdown",
   "metadata": {},
   "source": [
    "The `smtplib` module in Python provides the tools you need to send email via the SMTP protocol. Think of `smtplib` as your Python helper for talking to the email server. It's like having a digital postman who knows exactly how to handle your mail.\n"
   ]
  },
  {
   "cell_type": "markdown",
   "metadata": {},
   "source": [
    "### <a id='toc2_2_'></a>[Getting Started with `smtplib`](#toc0_)\n"
   ]
  },
  {
   "cell_type": "markdown",
   "metadata": {},
   "source": [
    "Before we start sending emails, we need to set up the connection to the email server. Here's a step-by-step guide:\n"
   ]
  },
  {
   "cell_type": "markdown",
   "metadata": {},
   "source": [
    "#### <a id='toc2_2_1_'></a>[Step 1: Import the `smtplib` Library](#toc0_)\n"
   ]
  },
  {
   "cell_type": "markdown",
   "metadata": {},
   "source": [
    "First things first, let's tell Python that we want to use `smtplib`:\n",
    "\n",
    "```python\n",
    "import smtplib\n",
    "```\n"
   ]
  },
  {
   "cell_type": "markdown",
   "metadata": {},
   "source": [
    "#### <a id='toc2_2_2_'></a>[Step 2: Set Up the SMTP Server Connection](#toc0_)\n"
   ]
  },
  {
   "cell_type": "markdown",
   "metadata": {},
   "source": [
    "Now we're ready to set up the connection to the server. We'll need the server's address and a port number. The port number tells your program what kind of connection to make. Here are the common port numbers used for SMTP:\n",
    "\n",
    "- Port 25: Standard SMTP port (not encrypted, not recommended)\n",
    "- Port 587: Secure SMTP port, used when sending emails (with encryption start using STARTTLS command)\n",
    "- Port 465: SMTP over SSL (secure from the start, less common)\n"
   ]
  },
  {
   "cell_type": "markdown",
   "metadata": {},
   "source": [
    "Here's how you can start a secure connection to the server using `smtplib`:\n",
    "\n",
    "```python\n",
    "server = smtplib.SMTP('smtp.example.com', 587)  # Replace with your SMTP server\n",
    "server.starttls()  # This upgrades the connection to a secure one with TLS encryption\n",
    "```\n"
   ]
  },
  {
   "cell_type": "markdown",
   "metadata": {},
   "source": [
    "#### <a id='toc2_2_3_'></a>[Step 3: Log In to the Server](#toc0_)\n"
   ]
  },
  {
   "cell_type": "markdown",
   "metadata": {},
   "source": [
    "If the server needs you to log in, you'll have to provide your username and password. Remember, it's not safe to write your password directly in the code. You should use environment variables or a secure method to store it.\n"
   ]
  },
  {
   "cell_type": "markdown",
   "metadata": {},
   "source": [
    "Here's how you log in:\n",
    "\n",
    "```python\n",
    "server.login('your_username', 'your_password')  # Replace with your username and password\n",
    "```\n"
   ]
  },
  {
   "cell_type": "markdown",
   "metadata": {},
   "source": [
    "#### <a id='toc2_2_4_'></a>[Step 4: Send an Email](#toc0_)\n"
   ]
  },
  {
   "cell_type": "markdown",
   "metadata": {},
   "source": [
    "After logging in, you're ready to send an email. We'll get into the details of creating an email message in the next section.\n"
   ]
  },
  {
   "cell_type": "markdown",
   "metadata": {},
   "source": [
    "#### <a id='toc2_2_5_'></a>[Step 5: Close the Connection](#toc0_)\n"
   ]
  },
  {
   "cell_type": "markdown",
   "metadata": {},
   "source": [
    "Once your email has been sent, you should close the connection to the server. Here's how:\n",
    "\n",
    "```python\n",
    "server.quit()\n",
    "```\n"
   ]
  },
  {
   "cell_type": "markdown",
   "metadata": {},
   "source": [
    "### <a id='toc2_3_'></a>[Handling Exceptions](#toc0_)\n"
   ]
  },
  {
   "cell_type": "markdown",
   "metadata": {},
   "source": [
    "Things don't always go as planned. The server might be busy, or your internet connection could drop. It's important to be prepared for these situations. In Python, we can handle these exceptions by using a `try`...`except` block:\n",
    "\n",
    "```python\n",
    "try:\n",
    "    server = smtplib.SMTP('smtp.example.com', 587)\n",
    "    server.starttls()\n",
    "    server.login('your_username', 'your_password')\n",
    "    # Code to send an email will go here\n",
    "except Exception as e:\n",
    "    print(f\"Something went wrong: {e}\")\n",
    "finally:\n",
    "    server.quit()\n",
    "```\n"
   ]
  },
  {
   "cell_type": "markdown",
   "metadata": {},
   "source": [
    "Using `smtplib` to set up an SMTP server connection in Python is like sending a digital postcard. You connect to the server, say hello, deliver your message, and then say goodbye. Just remember to keep your login details safe, and be ready for the occasional hiccup along the way. In the next section, we'll talk about how to craft the actual email that you want to send."
   ]
  },
  {
   "cell_type": "markdown",
   "metadata": {},
   "source": [
    "## <a id='toc3_'></a>[Creating Email Messages Using the `email` Module](#toc0_)"
   ]
  },
  {
   "cell_type": "markdown",
   "metadata": {},
   "source": [
    "When crafting emails programmatically, we need to construct the various parts of an email message, such as the subject, sender and recipient addresses, body, and possibly attachments. Python's `email` library is designed to facilitate these tasks. Let's see how we can put together an email using this module.\n"
   ]
  },
  {
   "cell_type": "markdown",
   "metadata": {},
   "source": [
    "### <a id='toc3_1_'></a>[Starting with the Basics](#toc0_)\n"
   ]
  },
  {
   "cell_type": "markdown",
   "metadata": {},
   "source": [
    "To create an email message, we'll start by importing the required classes from Python's `email` library:\n",
    "\n",
    "```python\n",
    "from email.message import EmailMessage\n",
    "```\n"
   ]
  },
  {
   "cell_type": "markdown",
   "metadata": {},
   "source": [
    "### <a id='toc3_2_'></a>[Composing the Email](#toc0_)\n"
   ]
  },
  {
   "cell_type": "markdown",
   "metadata": {},
   "source": [
    "We'll use the `EmailMessage` class to create a new email message object. This object will store all the parts of our email:\n",
    "\n",
    "```python\n",
    "# Create a new EmailMessage object\n",
    "msg = EmailMessage()\n",
    "```\n"
   ]
  },
  {
   "cell_type": "markdown",
   "metadata": {},
   "source": [
    "### <a id='toc3_3_'></a>[Setting Email Headers](#toc0_)\n"
   ]
  },
  {
   "cell_type": "markdown",
   "metadata": {},
   "source": [
    "Headers are key-value pairs that contain metadata about the email, such as the subject, sender, recipient, and more. Here's how to set some common headers:\n",
    "\n",
    "```python\n",
    "# Set the email headers\n",
    "msg['Subject'] = 'Greetings from Python!'\n",
    "msg['From'] = 'your_email@example.com'\n",
    "msg['To'] = 'recipient_email@example.com'\n",
    "```\n"
   ]
  },
  {
   "cell_type": "markdown",
   "metadata": {},
   "source": [
    "### <a id='toc3_4_'></a>[Adding the Email Body](#toc0_)\n"
   ]
  },
  {
   "cell_type": "markdown",
   "metadata": {},
   "source": [
    "The body of the email is where you write your message. You can have plain text, HTML, or both. Let's add a simple plain text body to our message:\n",
    "\n",
    "```python\n",
    "# Set the plain text body\n",
    "msg.set_content('Hello, this is a test email sent from a Python script!')\n",
    "```\n"
   ]
  },
  {
   "cell_type": "markdown",
   "metadata": {},
   "source": [
    "If you want to add HTML content, you can do so using the `add_alternative` method, which allows for multiple parts (like plain text and HTML) in the email:\n",
    "\n",
    "```python\n",
    "# Set the HTML body\n",
    "html_body = \"\"\"\n",
    "<html>\n",
    "    <body>\n",
    "        <p>Hello,</p>\n",
    "        <p>This is a <b>test email</b> sent from a <i>Python script</i>!</p>\n",
    "    </body>\n",
    "</html>\n",
    "\"\"\"\n",
    "msg.add_alternative(html_body, subtype='html')\n",
    "```\n"
   ]
  },
  {
   "cell_type": "markdown",
   "metadata": {},
   "source": [
    "### <a id='toc3_5_'></a>[Sending the Email](#toc0_)\n"
   ]
  },
  {
   "cell_type": "markdown",
   "metadata": {},
   "source": [
    "After composing the email, you would send it using the `smtplib` module, as shown in the previous section. Here's a reminder of how to send the message:\n",
    "\n",
    "```python\n",
    "import smtplib\n",
    "\n",
    "# SMTP server configuration\n",
    "smtp_server = 'smtp.example.com'\n",
    "smtp_port = 587\n",
    "smtp_username = 'your_email@example.com'\n",
    "smtp_password = 'your_password'\n",
    "\n",
    "# Send the email\n",
    "try:\n",
    "    with smtplib.SMTP(smtp_server, smtp_port) as server:\n",
    "        server.starttls()  # Upgrade the connection to secure\n",
    "        server.login(smtp_username, smtp_password)\n",
    "        server.send_message(msg)  # Send the email message\n",
    "except Exception as e:\n",
    "    print(f\"An error occurred: {e}\")\n",
    "```\n"
   ]
  },
  {
   "cell_type": "markdown",
   "metadata": {},
   "source": [
    "Using the `email` module in Python, you can easily construct and send email messages. Whether you're sending plain text or HTML, this module provides the tools you need to create professional-looking emails. Just remember to handle your SMTP server credentials securely and handle any exceptions that may occur during the email sending process.\n"
   ]
  },
  {
   "cell_type": "markdown",
   "metadata": {},
   "source": [
    "In the following sections, we'll delve into more advanced features, like formatting emails with HTML and adding attachments to make our messages even more versatile."
   ]
  },
  {
   "cell_type": "markdown",
   "metadata": {},
   "source": [
    "## <a id='toc4_'></a>[Formatting Plain Text and HTML Emails](#toc0_)"
   ]
  },
  {
   "cell_type": "markdown",
   "metadata": {},
   "source": [
    "Creating a well-formatted email can enhance readability and provide a better experience for the recipients. With Python's `email` library, you can create both plain text and HTML emails. Let's explore how to format these two types of email content.\n"
   ]
  },
  {
   "cell_type": "markdown",
   "metadata": {},
   "source": [
    "### <a id='toc4_1_'></a>[Plain Text Emails](#toc0_)\n"
   ]
  },
  {
   "cell_type": "markdown",
   "metadata": {},
   "source": [
    "Plain text emails are simple and straightforward. They contain only text with no additional styling or formatting. Here's how you can create a plain text email message:\n",
    "\n",
    "```python\n",
    "from email.message import EmailMessage\n",
    "\n",
    "# Create the email message\n",
    "msg = EmailMessage()\n",
    "msg['Subject'] = 'Simple Plain Text Email'\n",
    "msg['From'] = 'sender@example.com'\n",
    "msg['To'] = 'recipient@example.com'\n",
    "msg.set_content('Hello,\\nThis is a plain text email.\\nBest regards,\\nYour Python Script')\n",
    "```\n"
   ]
  },
  {
   "cell_type": "markdown",
   "metadata": {},
   "source": [
    "In a plain text email, you can use newline characters (`\\n`) to create line breaks and organize the content into paragraphs.\n"
   ]
  },
  {
   "cell_type": "markdown",
   "metadata": {},
   "source": [
    "### <a id='toc4_2_'></a>[HTML Emails](#toc0_)\n"
   ]
  },
  {
   "cell_type": "markdown",
   "metadata": {},
   "source": [
    "HTML emails allow you to add styling, formatting, and images, just like a webpage. This can make your emails more visually appealing and engaging. Here's an example of an HTML-formatted email:\n",
    "\n",
    "```python\n",
    "# Define the HTML content\n",
    "html_content = \"\"\"\n",
    "<html>\n",
    "  <head></head>\n",
    "  <body>\n",
    "    <h1>Hello!</h1>\n",
    "    <p>This is an <strong>HTML formatted</strong> email sent from a Python script.</p>\n",
    "    <p>Best regards,<br>Your Python Script</p>\n",
    "  </body>\n",
    "</html>\n",
    "\"\"\"\n",
    "\n",
    "# Add the HTML content to the email message\n",
    "msg.add_alternative(html_content, subtype='html')\n",
    "```\n"
   ]
  },
  {
   "cell_type": "markdown",
   "metadata": {},
   "source": [
    "With HTML, you can use various tags to structure your content:\n",
    "- `<h1>` to `<h6>` for headings\n",
    "- `<p>` for paragraphs\n",
    "- `<strong>` or `<b>` for bold text\n",
    "- `<i>` for italic text\n",
    "- `<br>` for line breaks\n",
    "- `<a href=\"url\">` for links\n",
    "- `<img src=\"image_url\">` for images\n",
    "- And many more HTML tags for lists, tables, and other formats\n"
   ]
  },
  {
   "cell_type": "markdown",
   "metadata": {},
   "source": [
    "### <a id='toc4_3_'></a>[Combining Plain Text and HTML](#toc0_)\n"
   ]
  },
  {
   "cell_type": "markdown",
   "metadata": {},
   "source": [
    "It's a good practice to include both plain text and HTML versions of your email content. This ensures that recipients can read your message, even if their email client doesn't support HTML or they prefer plain text.\n"
   ]
  },
  {
   "cell_type": "markdown",
   "metadata": {},
   "source": [
    "You can add a plain text alternative first, followed by the HTML version:\n",
    "\n",
    "```python\n",
    "# Set the plain text content\n",
    "msg.set_content('Hello,\\nThis is a plain text version of the email.\\nBest regards,\\nYour Python Script')\n",
    "\n",
    "# Add the HTML alternative\n",
    "msg.add_alternative(html_content, subtype='html')\n",
    "```\n"
   ]
  },
  {
   "cell_type": "markdown",
   "metadata": {},
   "source": [
    "When the email is sent, the recipient's email client will display the HTML version if it's supported; otherwise, it will fall back to the plain text version.\n"
   ]
  },
  {
   "cell_type": "markdown",
   "metadata": {},
   "source": [
    "### <a id='toc4_4_'></a>[Styling HTML Emails](#toc0_)\n"
   ]
  },
  {
   "cell_type": "markdown",
   "metadata": {},
   "source": [
    "When writing HTML for emails, keep in mind that styling is typically done inline using the `style` attribute, as some email clients do not support external or internal CSS stylesheets.\n"
   ]
  },
  {
   "cell_type": "markdown",
   "metadata": {},
   "source": [
    "Here's an example of inline styling:\n",
    "\n",
    "```python\n",
    "html_content = \"\"\"\n",
    "<html>\n",
    "  <body>\n",
    "    <p style=\"font-family: Arial, sans-serif; font-size: 14px; color: #444;\">\n",
    "      This paragraph is styled with inline CSS.\n",
    "    </p>\n",
    "  </body>\n",
    "</html>\n",
    "\"\"\"\n",
    "```\n"
   ]
  },
  {
   "cell_type": "markdown",
   "metadata": {},
   "source": [
    "Formatting emails in Python allows you to create both simple, plain text messages and rich, styled HTML messages. Including both formats ensures broad compatibility with various email clients and user preferences. In the upcoming content, we will explore how to further enhance your emails by adding attachments and embedding images."
   ]
  },
  {
   "cell_type": "markdown",
   "metadata": {},
   "source": [
    "## <a id='toc5_'></a>[Attaching Files and Embedding Images](#toc0_)"
   ]
  },
  {
   "cell_type": "markdown",
   "metadata": {},
   "source": [
    "Enhancing emails with attachments and embedded images can provide additional value to your recipients, whether it's sending documents, sharing photos, or including logos and other branding elements in your messages. Let's learn how to do this with Python's `email` module.\n"
   ]
  },
  {
   "cell_type": "markdown",
   "metadata": {},
   "source": [
    "### <a id='toc5_1_'></a>[Attaching Files to an Email](#toc0_)\n"
   ]
  },
  {
   "cell_type": "markdown",
   "metadata": {},
   "source": [
    "To attach a file to your email, you'll need to use the appropriate MIME type from the `email.mime` module. For example, to attach a PDF file, you would use `MIMEApplication`. Here's a simple guide on how to attach a file:\n"
   ]
  },
  {
   "cell_type": "markdown",
   "metadata": {},
   "source": [
    "```python\n",
    "from email.mime.application import MIMEApplication\n",
    "from email.mime.multipart import MIMEMultipart\n",
    "from pathlib import Path\n",
    "\n",
    "# Create a MIMEMultipart message\n",
    "msg = MIMEMultipart()\n",
    "msg['Subject'] = 'Email With Attachment'\n",
    "msg['From'] = 'sender@example.com'\n",
    "msg['To'] = 'recipient@example.com'\n",
    "\n",
    "# Write the body\n",
    "msg.set_content('Please find the attached file.')\n",
    "\n",
    "# Attach a file\n",
    "filename = 'example.pdf'  # Replace with your file's name\n",
    "file_path = Path(filename)\n",
    "with open(file_path, 'rb') as f:\n",
    "    file_data = f.read()\n",
    "    file_name = file_path.name\n",
    "    file_part = MIMEApplication(file_data, Name=file_name)\n",
    "\n",
    "# Add header to the attachment\n",
    "file_part['Content-Disposition'] = f'attachment; filename=\"{file_name}\"'\n",
    "\n",
    "# Attach the file to the message\n",
    "msg.attach(file_part)\n",
    "```\n"
   ]
  },
  {
   "cell_type": "markdown",
   "metadata": {},
   "source": [
    "### <a id='toc5_2_'></a>[Embedding Images in an Email](#toc0_)\n"
   ]
  },
  {
   "cell_type": "markdown",
   "metadata": {},
   "source": [
    "If you want to embed an image within the HTML body of the email, so that it's displayed directly in the message and not as a separate attachment, you use `MIMEImage`. Here's how:\n"
   ]
  },
  {
   "cell_type": "markdown",
   "metadata": {},
   "source": [
    "```python\n",
    "from email.mime.image import MIMEImage\n",
    "\n",
    "# Suppose you've already created a MIMEMultipart message and added HTML content\n",
    "# ...\n",
    "\n",
    "# Embed an image\n",
    "image_path = Path('example.jpg')  # Replace with your image's path\n",
    "with open(image_path, 'rb') as img:\n",
    "    image_data = img.read()\n",
    "    image_name = image_path.name\n",
    "    image_part = MIMEImage(image_data, Name=image_name)\n",
    "\n",
    "# CID (Content-ID) is used to reference the image in the HTML body\n",
    "image_cid = 'image1'  # Can be any string, but should be unique in the email\n",
    "image_part.add_header('Content-ID', f'<{image_cid}>')\n",
    "image_part.add_header('Content-Disposition', 'inline', filename=image_name)\n",
    "\n",
    "# Attach the image to the message\n",
    "msg.attach(image_part)\n",
    "\n",
    "# Reference the image in your HTML using the CID\n",
    "html_content = f\"\"\"\n",
    "<html>\n",
    "  <body>\n",
    "    <p>Here's an image embedded in the email:</p>\n",
    "    <img src=\"cid:{image_cid}\">\n",
    "  </body>\n",
    "</html>\n",
    "\"\"\"\n",
    "msg.add_alternative(html_content, subtype='html')\n",
    "```\n"
   ]
  },
  {
   "cell_type": "markdown",
   "metadata": {},
   "source": [
    "Attaching files and embedding images in emails can make your messages more informative and engaging. By using Python's `email` module, you can customize emails to include various types of attachments, or to display images directly within the message body. Remember to use the appropriate MIME type for each attachment to ensure proper handling by the recipient's email client."
   ]
  }
 ],
 "metadata": {
  "language_info": {
   "name": "python"
  }
 },
 "nbformat": 4,
 "nbformat_minor": 2
}
