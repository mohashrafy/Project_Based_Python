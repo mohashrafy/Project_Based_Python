{
 "cells": [
  {
   "cell_type": "markdown",
   "metadata": {},
   "source": [
    "<img src=\"./images/banner.png\" width=\"800\">"
   ]
  },
  {
   "cell_type": "markdown",
   "metadata": {},
   "source": [
    "# Introduction to Recursion"
   ]
  },
  {
   "cell_type": "markdown",
   "metadata": {},
   "source": [
    "Recursion is a programming technique where a function calls itself to solve a problem. This concept is widely used in computer science for problems that can be broken down into smaller, more manageable sub-problems of the same type. The recursive approach can lead to elegant solutions that are often more intuitive than their iterative counterparts, especially for problems related to data structures like trees and graphs.\n"
   ]
  },
  {
   "cell_type": "markdown",
   "metadata": {},
   "source": [
    "**Table of contents**<a id='toc0_'></a>    \n",
    "- [How Recursion Works](#toc1_1_)    \n",
    "  - [Anatomy of a Recursive Function](#toc1_2_)    \n",
    "  - [Example of a Recursive Function: Factorial](#toc1_3_)    \n",
    "- [Simple Recursive Functions Examples](#toc2_)    \n",
    "  - [Factorial Calculation](#toc2_1_)    \n",
    "    - [Recursive Factorial Function:](#toc2_1_1_)    \n",
    "    - [Walking Through `factorial(4)`:](#toc2_1_2_)    \n",
    "  - [Fibonacci Sequence](#toc2_2_)    \n",
    "    - [Recursive Fibonacci Function:](#toc2_2_1_)    \n",
    "    - [Walking Through `fibonacci(4)`:](#toc2_2_2_)    \n",
    "- [Understanding Recursive Calls](#toc3_)    \n",
    "  - [Visualizing the Call Stack](#toc3_1_)    \n",
    "  - [Importance of Base Cases to Avoid Infinite Recursion](#toc3_2_)    \n",
    "  - [Exercise](#toc3_3_)    \n",
    "\n",
    "<!-- vscode-jupyter-toc-config\n",
    "\tnumbering=false\n",
    "\tanchor=true\n",
    "\tflat=false\n",
    "\tminLevel=2\n",
    "\tmaxLevel=6\n",
    "\t/vscode-jupyter-toc-config -->\n",
    "<!-- THIS CELL WILL BE REPLACED ON TOC UPDATE. DO NOT WRITE YOUR TEXT IN THIS CELL -->"
   ]
  },
  {
   "cell_type": "markdown",
   "metadata": {},
   "source": [
    "### <a id='toc1_1_'></a>[How Recursion Works](#toc0_)\n"
   ]
  },
  {
   "cell_type": "markdown",
   "metadata": {},
   "source": [
    "At its core, recursion consists of two main components:\n",
    "\n",
    "1. **Base Case**: This is the condition that stops the recursion. Without a base case, a recursive function would call itself indefinitely, creating an infinite loop that would eventually lead to a stack overflow error.\n",
    "\n",
    "2. **Recursive Case**: This is the part of the function where the recursion occurs. Here, the function calls itself with a different argument, usually a step closer to the base case.\n"
   ]
  },
  {
   "cell_type": "markdown",
   "metadata": {},
   "source": [
    "The process of recursion can be visualized with a 'call stack'. Each time the recursive function is called, a new frame is placed on the stack with its own local variables and parameters. When the base case is reached, the function stops calling itself, and the stack begins to unwind as each call returns to the point where it was made.\n"
   ]
  },
  {
   "cell_type": "markdown",
   "metadata": {},
   "source": [
    "### <a id='toc1_2_'></a>[Anatomy of a Recursive Function](#toc0_)\n"
   ]
  },
  {
   "cell_type": "markdown",
   "metadata": {},
   "source": [
    "A typical recursive function in Python looks like this:\n",
    "\n",
    "```python\n",
    "def recursive_function(parameters):\n",
    "    if base_case_condition(parameters):\n",
    "        return base_case_value\n",
    "    else:\n",
    "        return recursive_function(modified_parameters)\n",
    "```\n"
   ]
  },
  {
   "cell_type": "markdown",
   "metadata": {},
   "source": [
    "The `base_case_condition` evaluates the parameters to determine if they satisfy the base case. If they do, the function returns the `base_case_value`. If not, the function calls itself with `modified_parameters`, which moves the problem towards the base case.\n"
   ]
  },
  {
   "cell_type": "markdown",
   "metadata": {},
   "source": [
    "### <a id='toc1_3_'></a>[Example of a Recursive Function: Factorial](#toc0_)\n"
   ]
  },
  {
   "cell_type": "markdown",
   "metadata": {},
   "source": [
    "To demonstrate a simple recursive function, let's look at the factorial of a number, which is the product of all positive integers less than or equal to that number. Mathematically, it's defined as `n! = n * (n-1) * (n-2) * ... * 1`. The recursive definition of factorial is `n! = n * (n-1)!` for `n > 1`, and `1! = 1` (the base case).\n"
   ]
  },
  {
   "cell_type": "markdown",
   "metadata": {},
   "source": [
    "<img src=\"./images/recursion.png\" width=\"400\">"
   ]
  },
  {
   "cell_type": "markdown",
   "metadata": {},
   "source": [
    "Here's how you can define a recursive factorial function in Python:\n"
   ]
  },
  {
   "cell_type": "code",
   "execution_count": 2,
   "metadata": {},
   "outputs": [],
   "source": [
    "def factorial(n):\n",
    "    # Base case: if n is 1, just return 1\n",
    "    if n == 1:\n",
    "        return 1\n",
    "    # Recursive case: n! = n * (n-1)!\n",
    "    else:\n",
    "        return n * factorial(n - 1)"
   ]
  },
  {
   "cell_type": "code",
   "execution_count": 3,
   "metadata": {},
   "outputs": [
    {
     "data": {
      "text/plain": [
       "120"
      ]
     },
     "execution_count": 3,
     "metadata": {},
     "output_type": "execute_result"
    }
   ],
   "source": [
    "factorial(5)"
   ]
  },
  {
   "cell_type": "markdown",
   "metadata": {},
   "source": [
    "In the next section, we will look at more examples of simple recursive functions and begin to understand how recursive calls work. We will also explore the importance of defining a proper base case to avoid infinite recursion."
   ]
  },
  {
   "cell_type": "markdown",
   "metadata": {},
   "source": [
    "## <a id='toc2_'></a>[Simple Recursive Functions Examples](#toc0_)"
   ]
  },
  {
   "cell_type": "markdown",
   "metadata": {},
   "source": [
    "In this section, we'll explore two classic examples of recursive functions: calculating the factorial of a number and generating the Fibonacci sequence. These examples will build on the concepts introduced in the previous section.\n"
   ]
  },
  {
   "cell_type": "markdown",
   "metadata": {},
   "source": [
    "### <a id='toc2_1_'></a>[Factorial Calculation](#toc0_)\n"
   ]
  },
  {
   "cell_type": "markdown",
   "metadata": {},
   "source": [
    "We've already defined a recursive function to calculate the factorial of a number. Let's review it and go through an example step-by-step to better understand how it works.\n"
   ]
  },
  {
   "cell_type": "markdown",
   "metadata": {},
   "source": [
    "#### <a id='toc2_1_1_'></a>[Recursive Factorial Function:](#toc0_)\n"
   ]
  },
  {
   "cell_type": "code",
   "execution_count": 5,
   "metadata": {},
   "outputs": [],
   "source": [
    "def factorial(n):\n",
    "    # Base case: if n is 1, just return 1\n",
    "    if n == 1:\n",
    "        return 1\n",
    "    # Recursive case: n! = n * (n-1)!\n",
    "    else:\n",
    "        return n * factorial(n - 1)"
   ]
  },
  {
   "cell_type": "markdown",
   "metadata": {},
   "source": [
    "#### <a id='toc2_1_2_'></a>[Walking Through `factorial(4)`:](#toc0_)\n"
   ]
  },
  {
   "cell_type": "markdown",
   "metadata": {},
   "source": [
    "Here's what happens when we call `factorial(4)`:\n",
    "\n",
    "1. `factorial(4)` → Is 4 equal to 1? No. Proceed to call `4 * factorial(3)`.\n",
    "2. `factorial(3)` → Is 3 equal to 1? No. Proceed to call `3 * factorial(2)`.\n",
    "3. `factorial(2)` → Is 2 equal to 1? No. Proceed to call `2 * factorial(1)`.\n",
    "4. `factorial(1)` → Is 1 equal to 1? Yes. Return 1 and start unwinding the stack.\n",
    "5. Return to `factorial(2)` → It now returns `2 * 1`, which is 2.\n",
    "6. Return to `factorial(3)` → It now returns `3 * 2`, which is 6.\n",
    "7. Return to `factorial(4)` → It now returns `4 * 6`, which is 24.\n"
   ]
  },
  {
   "cell_type": "markdown",
   "metadata": {},
   "source": [
    "The final result is `factorial(4) = 24`.\n"
   ]
  },
  {
   "cell_type": "markdown",
   "metadata": {},
   "source": [
    "<img src=\"./images/recursion.png\" width=\"400\">"
   ]
  },
  {
   "cell_type": "markdown",
   "metadata": {},
   "source": [
    "### <a id='toc2_2_'></a>[Fibonacci Sequence](#toc0_)\n"
   ]
  },
  {
   "cell_type": "markdown",
   "metadata": {},
   "source": [
    "The Fibonacci sequence is a series of numbers where each number is the sum of the two preceding ones, typically starting with 0 and 1. Mathematically, the sequence is defined by the recurrence relation `F(n) = F(n-1) + F(n-2)` with seed values `F(0) = 0` and `F(1) = 1`.\n"
   ]
  },
  {
   "cell_type": "markdown",
   "metadata": {},
   "source": [
    "#### <a id='toc2_2_1_'></a>[Recursive Fibonacci Function:](#toc0_)\n"
   ]
  },
  {
   "cell_type": "code",
   "execution_count": 6,
   "metadata": {},
   "outputs": [],
   "source": [
    "def fibonacci(n):\n",
    "    # Base cases: if n is 0 or 1, return n\n",
    "    if n == 0:\n",
    "        return 0\n",
    "    elif n == 1:\n",
    "        return 1\n",
    "    # Recursive case: F(n) = F(n-1) + F(n-2)\n",
    "    else:\n",
    "        return fibonacci(n - 1) + fibonacci(n - 2)"
   ]
  },
  {
   "cell_type": "markdown",
   "metadata": {},
   "source": [
    "#### <a id='toc2_2_2_'></a>[Walking Through `fibonacci(4)`:](#toc0_)\n"
   ]
  },
  {
   "cell_type": "markdown",
   "metadata": {},
   "source": [
    "Here's what happens when we call `fibonacci(4)`:\n",
    "\n",
    "1. `fibonacci(4)` → Calls `fibonacci(3)` and `fibonacci(2)`.\n",
    "2. `fibonacci(3)` → Calls `fibonacci(2)` and `fibonacci(1)`.\n",
    "   - `fibonacci(1)` returns 1 (base case).\n",
    "3. `fibonacci(2)` (first call) → Calls `fibonacci(1)` and `fibonacci(0)`.\n",
    "   - `fibonacci(1)` returns 1 (base case).\n",
    "   - `fibonacci(0)` returns 0 (base case).\n",
    "   - `fibonacci(2)` returns `1 + 0`, which is 1.\n",
    "4. `fibonacci(2)` (second call) → We already calculated `fibonacci(2)` and know it's 1.\n",
    "5. `fibonacci(3)` now returns `1 + 1`, which is 2.\n",
    "6. `fibonacci(4)` now returns `2 + 1`, which is 3.\n"
   ]
  },
  {
   "cell_type": "markdown",
   "metadata": {},
   "source": [
    "The final result is `fibonacci(4) = 3`.\n"
   ]
  },
  {
   "cell_type": "code",
   "execution_count": 8,
   "metadata": {},
   "outputs": [
    {
     "data": {
      "text/plain": [
       "0"
      ]
     },
     "execution_count": 8,
     "metadata": {},
     "output_type": "execute_result"
    }
   ],
   "source": [
    "# Test the fibonacci function\n",
    "fibonacci(0)"
   ]
  },
  {
   "cell_type": "code",
   "execution_count": 9,
   "metadata": {},
   "outputs": [
    {
     "data": {
      "text/plain": [
       "5"
      ]
     },
     "execution_count": 9,
     "metadata": {},
     "output_type": "execute_result"
    }
   ],
   "source": [
    "fibonacci(5)"
   ]
  },
  {
   "cell_type": "markdown",
   "metadata": {},
   "source": [
    "In the next section, we'll delve deeper into understanding recursive calls and the importance of base cases. We'll also look at common mistakes to avoid when writing recursive functions. Remember to test these functions with different inputs to see how the recursion unfolds."
   ]
  },
  {
   "cell_type": "markdown",
   "metadata": {},
   "source": [
    "## <a id='toc3_'></a>[Understanding Recursive Calls](#toc0_)"
   ]
  },
  {
   "cell_type": "markdown",
   "metadata": {},
   "source": [
    "When working with recursion, it's essential to understand how recursive calls are made and managed. Each recursive call creates a new execution context that includes its parameters and local variables. This context is pushed onto a structure called the \"call stack\". The call stack is a stack data structure that manages the order in which functions are called and returned in a program.\n"
   ]
  },
  {
   "cell_type": "markdown",
   "metadata": {},
   "source": [
    "### <a id='toc3_1_'></a>[Visualizing the Call Stack](#toc0_)\n"
   ]
  },
  {
   "cell_type": "markdown",
   "metadata": {},
   "source": [
    "To visualize how the call stack works in recursion, let's use the factorial function defined earlier as an example. Here's what happens when we call `factorial(3)`:\n",
    "\n",
    "1. `factorial(3)` is called.\n",
    "   - `3 * factorial(2)` needs to be evaluated.\n",
    "   - `factorial(3)` is paused and waits for `factorial(2)`.\n",
    "\n",
    "2. `factorial(2)` is called.\n",
    "   - `2 * factorial(1)` needs to be evaluated.\n",
    "   - `factorial(2)` is paused and waits for `factorial(1)`.\n",
    "\n",
    "3. `factorial(1)` is called.\n",
    "   - Since `n == 1`, it's the base case, and it returns `1`.\n",
    "   - The call stack starts to unwind.\n",
    "\n",
    "4. Return to `factorial(2)`.\n",
    "   - Now that `factorial(1)` has returned `1`, `factorial(2)` can complete and return `2 * 1`.\n",
    "\n",
    "5. Return to `factorial(3)`.\n",
    "   - With the result of `factorial(2)` available, `factorial(3)` can complete and return `3 * 2`.\n"
   ]
  },
  {
   "cell_type": "markdown",
   "metadata": {},
   "source": [
    "The call stack for `factorial(3)` looks like this:\n"
   ]
  },
  {
   "cell_type": "markdown",
   "metadata": {},
   "source": [
    "```\n",
    "| factorial(1) | ← Returns 1 to the call above, then pops off the stack.\n",
    "| factorial(2) | ← Waits for factorial(1) to return, then completes.\n",
    "| factorial(3) | ← The initial call, waits for factorial(2), then completes.\n",
    "```"
   ]
  },
  {
   "cell_type": "markdown",
   "metadata": {},
   "source": [
    "<img src=\"./images/factorial-viz.png\" width=\"400\">"
   ]
  },
  {
   "cell_type": "markdown",
   "metadata": {},
   "source": [
    "Each level must wait for the level below it to complete before it can resolve and return its value. Once the base case is reached, the returning of values happens in the opposite order of the calls.\n"
   ]
  },
  {
   "cell_type": "markdown",
   "metadata": {},
   "source": [
    "### <a id='toc3_2_'></a>[Importance of Base Cases to Avoid Infinite Recursion](#toc0_)\n"
   ]
  },
  {
   "cell_type": "markdown",
   "metadata": {},
   "source": [
    "The base case in a recursive function serves as an exit point. Without a base case, the function would keep calling itself indefinitely, creating infinite recursion. This would eventually lead to a stack overflow, where the call stack exceeds its bounds and the program crashes.\n"
   ]
  },
  {
   "cell_type": "markdown",
   "metadata": {},
   "source": [
    "It's crucial to ensure that with each recursive call, the function is moving closer to the base case. If the modified parameters in the recursive call do not converge towards the base case, the recursion will never terminate.\n"
   ]
  },
  {
   "cell_type": "markdown",
   "metadata": {},
   "source": [
    "Let's look at a poorly designed recursive function to illustrate what happens without a proper base case:\n"
   ]
  },
  {
   "cell_type": "code",
   "execution_count": 4,
   "metadata": {},
   "outputs": [],
   "source": [
    "def faulty_recursive_function(n):\n",
    "    if n == 0:\n",
    "        return \"This won't stop!\"\n",
    "    else:\n",
    "        return faulty_recursive_function(n)  # The parameter 'n' is not modified"
   ]
  },
  {
   "cell_type": "markdown",
   "metadata": {},
   "source": [
    "This function will result in infinite recursion because `n` is never modified to move towards the base case (`n == 0`). It's a common mistake to forget to modify the parameters or to have an incorrect base case condition.\n"
   ]
  },
  {
   "cell_type": "markdown",
   "metadata": {},
   "source": [
    "**Exercise:** Try modifying the `faulty_recursive_function` so that it properly decrements `n` and reaches the base case. What changes do you need to make to ensure it doesn't result in infinite recursion?\n"
   ]
  },
  {
   "cell_type": "markdown",
   "metadata": {},
   "source": [
    "In the next sections, we will delve deeper into the advantages and disadvantages of recursion, Python-specific considerations regarding recursion, and how to apply these concepts in a project-specific context."
   ]
  }
 ],
 "metadata": {
  "kernelspec": {
   "display_name": "py310",
   "language": "python",
   "name": "python3"
  },
  "language_info": {
   "codemirror_mode": {
    "name": "ipython",
    "version": 3
   },
   "file_extension": ".py",
   "mimetype": "text/x-python",
   "name": "python",
   "nbconvert_exporter": "python",
   "pygments_lexer": "ipython3",
   "version": "3.10.12"
  }
 },
 "nbformat": 4,
 "nbformat_minor": 2
}
