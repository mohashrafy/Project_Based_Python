{
 "cells": [
  {
   "cell_type": "markdown",
   "metadata": {},
   "source": [
    "<img src=\"./images/api.png\" width=\"800\">"
   ]
  },
  {
   "cell_type": "markdown",
   "metadata": {},
   "source": [
    "# Consuming APIs With Python: Practical Examples"
   ]
  },
  {
   "cell_type": "markdown",
   "metadata": {},
   "source": [
    "Let's put our knowledge into practice by interacting with real-world APIs. We'll start with something fun and visually engaging: searching for and fetching trending GIFs using the Giphy API. Then, we'll explore the Google Books API to search for books and retrieve information about them.\n"
   ]
  },
  {
   "cell_type": "markdown",
   "metadata": {},
   "source": [
    "**Table of contents**<a id='toc0_'></a>    \n",
    "- [Searching Google Books](#toc1_)    \n",
    "- [Searching and Fetching Trending GIFs with Giphy](#toc2_)    \n",
    "\n",
    "<!-- vscode-jupyter-toc-config\n",
    "\tnumbering=false\n",
    "\tanchor=true\n",
    "\tflat=false\n",
    "\tminLevel=2\n",
    "\tmaxLevel=6\n",
    "\t/vscode-jupyter-toc-config -->\n",
    "<!-- THIS CELL WILL BE REPLACED ON TOC UPDATE. DO NOT WRITE YOUR TEXT IN THIS CELL -->"
   ]
  },
  {
   "cell_type": "markdown",
   "metadata": {},
   "source": [
    "## <a id='toc1_'></a>[Searching Google Books](#toc0_)"
   ]
  },
  {
   "cell_type": "markdown",
   "metadata": {},
   "source": [
    "Google Books API allows you to search for books and view detailed information about them. It's a great API for beginners due to its simplicity and excellent documentation.\n"
   ]
  },
  {
   "cell_type": "markdown",
   "metadata": {},
   "source": [
    "Here's an example of how to search for books about Python programming:\n"
   ]
  },
  {
   "cell_type": "code",
   "execution_count": 1,
   "metadata": {},
   "outputs": [],
   "source": [
    "import requests"
   ]
  },
  {
   "cell_type": "code",
   "execution_count": 2,
   "metadata": {},
   "outputs": [],
   "source": [
    "# The base URL for the Google Books API.\n",
    "url = 'https://www.googleapis.com/books/v1/volumes'"
   ]
  },
  {
   "cell_type": "code",
   "execution_count": 3,
   "metadata": {},
   "outputs": [],
   "source": [
    "# Setting up the query parameters for the search term 'Python programming'.\n",
    "params = {'q': 'Python programming'}"
   ]
  },
  {
   "cell_type": "code",
   "execution_count": 4,
   "metadata": {},
   "outputs": [],
   "source": [
    "# Making the GET request to Google Books API.\n",
    "response = requests.get(url, params=params)"
   ]
  },
  {
   "cell_type": "code",
   "execution_count": 13,
   "metadata": {},
   "outputs": [
    {
     "name": "stdout",
     "output_type": "stream",
     "text": [
      "Python Programming\n",
      "Automate the Boring Stuff with Python, 2nd Edition\n",
      "Python Programming\n",
      "Python for Kids\n",
      "Python for Beginners\n",
      "Learning Python\n",
      "Bite-Size Python\n",
      "Expert Python Programming\n",
      "Learn Python\n",
      "Python Programming from Beginner to Paid Professional Part 1\n"
     ]
    }
   ],
   "source": [
    "# Checking if the request was successful.\n",
    "if response.status_code == 200:\n",
    "    # Parsing the JSON response.\n",
    "    books = response.json()\n",
    "    # Looping through the book items.\n",
    "    for book in books['items']:\n",
    "        # Printing the title of each book.\n",
    "        title = book['volumeInfo']['title']\n",
    "        print(title)\n",
    "else:\n",
    "    print(f\"Error: {response.status_code}\")"
   ]
  },
  {
   "cell_type": "markdown",
   "metadata": {},
   "source": [
    "When you run this code, you'll see a list of book titles related to Python programming. You can modify the query parameters to refine your search results or fetch more details about each book, such as authors, publishers, and publication dates.\n"
   ]
  },
  {
   "cell_type": "markdown",
   "metadata": {},
   "source": [
    "By exploring these practical examples, you'll get a feel for how to use APIs to fetch and manipulate data. As you become more comfortable with these concepts, you can experiment with other APIs and build more complex applications."
   ]
  },
  {
   "cell_type": "markdown",
   "metadata": {},
   "source": [
    "## <a id='toc2_'></a>[Searching and Fetching Trending GIFs with Giphy](#toc0_)"
   ]
  },
  {
   "cell_type": "markdown",
   "metadata": {},
   "source": [
    "Giphy is a popular platform for GIFs, and it provides a well-documented API that we can use to search for and retrieve trending GIFs. Here's how you can use Python to fetch trending GIFs from Giphy:\n"
   ]
  },
  {
   "cell_type": "markdown",
   "metadata": {},
   "source": [
    "First, you'll need to obtain an API key from the Giphy Developers page. This will allow you to authenticate your requests.\n"
   ]
  },
  {
   "cell_type": "markdown",
   "metadata": {},
   "source": [
    "Once you have your API key, you can use the following Python code to get trending GIFs:\n"
   ]
  },
  {
   "cell_type": "code",
   "execution_count": 2,
   "metadata": {},
   "outputs": [],
   "source": [
    "import requests"
   ]
  },
  {
   "cell_type": "code",
   "execution_count": 3,
   "metadata": {},
   "outputs": [],
   "source": [
    "# Replace 'your_api_key' with the API key you obtained from Giphy.\n",
    "# See https://developers.giphy.com/docs/api#quick-start-guide for details.\n",
    "# Note: This is a fake API key. Don't use it in your code. Get your own API key.\n",
    "api_key = 'mdd64FA04xdwTocFMlaFlIYBuHFxcP8p'"
   ]
  },
  {
   "cell_type": "code",
   "execution_count": 4,
   "metadata": {},
   "outputs": [],
   "source": [
    "# The base URL for the Giphy API trending endpoint.\n",
    "url = 'https://api.giphy.com/v1/gifs/trending'"
   ]
  },
  {
   "cell_type": "code",
   "execution_count": 5,
   "metadata": {},
   "outputs": [],
   "source": [
    "# Setting up the parameters for the request.\n",
    "params = {\n",
    "    'api_key': api_key,\n",
    "    'limit': 10  # Limit to the top 10 trending GIFs.\n",
    "}"
   ]
  },
  {
   "cell_type": "code",
   "execution_count": 6,
   "metadata": {},
   "outputs": [],
   "source": [
    "# Making the GET request to Giphy API.\n",
    "response = requests.get(url, params=params)"
   ]
  },
  {
   "cell_type": "code",
   "execution_count": 7,
   "metadata": {},
   "outputs": [
    {
     "data": {
      "text/plain": [
       "<Response [200]>"
      ]
     },
     "execution_count": 7,
     "metadata": {},
     "output_type": "execute_result"
    }
   ],
   "source": [
    "response"
   ]
  },
  {
   "cell_type": "code",
   "execution_count": 24,
   "metadata": {},
   "outputs": [
    {
     "name": "stdout",
     "output_type": "stream",
     "text": [
      "https://giphy.com/gifs/USCTrojans-dj-will-ferrell-usc-iJ2cZjydqg9wFkzbGD\n",
      "https://giphy.com/gifs/Tasmeemgroup-qatar-tasmeem-cakeshopqatar-V2JgPXdvuCKrDo9uem\n",
      "https://giphy.com/gifs/IntoAction-mental-health-crisis-resources-3k6ucQBFZcvqsEMxWn\n",
      "https://giphy.com/gifs/spotify-happy-17qey3g3ssNEWSkE5W\n",
      "https://giphy.com/gifs/rvappstudios-monday-mondays-montag-YdGUYXws5mD2fxFKxg\n",
      "https://giphy.com/gifs/jerseydemic-xTiN0CNHgoRf1Ha7CM\n",
      "https://giphy.com/gifs/LINEFRIENDS-brown-line-friends-minini-c76IJLufpNwSULPk77\n",
      "https://giphy.com/gifs/laughing-funny-JC41W0rJrmmTS\n",
      "https://giphy.com/gifs/kim-novak-tXL4FHPSnVJ0A\n",
      "https://giphy.com/gifs/tlc-network-tlc-my-big-fat-fabulous-life-QxSSrQxSKaFECD7ywx\n"
     ]
    }
   ],
   "source": [
    "# Checking if the request was successful.\n",
    "if response.status_code == 200:\n",
    "    # Parsing the JSON response.\n",
    "    trending_gifs = response.json()\n",
    "\n",
    "    # Looping through each GIF's data.\n",
    "    for gif in trending_gifs['data']:\n",
    "        # Printing the URL of the GIF.\n",
    "        print(gif['url'])\n",
    "else:\n",
    "    print(f\"Error: {response.status_code}\")"
   ]
  },
  {
   "cell_type": "markdown",
   "metadata": {},
   "source": [
    "This script retrieves the top 10 trending GIFs and prints their URLs. You can display these GIFs in a Jupyter notebook or on a webpage."
   ]
  }
 ],
 "metadata": {
  "kernelspec": {
   "display_name": "py310",
   "language": "python",
   "name": "python3"
  },
  "language_info": {
   "codemirror_mode": {
    "name": "ipython",
    "version": 3
   },
   "file_extension": ".py",
   "mimetype": "text/x-python",
   "name": "python",
   "nbconvert_exporter": "python",
   "pygments_lexer": "ipython3",
   "version": "3.10.12"
  }
 },
 "nbformat": 4,
 "nbformat_minor": 2
}
