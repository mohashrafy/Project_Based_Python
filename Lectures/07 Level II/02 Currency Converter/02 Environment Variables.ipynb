{
 "cells": [
  {
   "cell_type": "markdown",
   "metadata": {},
   "source": [
    "<img src=\"./images/env-var.png\" width=\"800\">"
   ]
  },
  {
   "cell_type": "markdown",
   "metadata": {},
   "source": [
    "# Environment Variables"
   ]
  },
  {
   "cell_type": "markdown",
   "metadata": {},
   "source": [
    "When developing applications, especially those that send emails or interact with other web services, you often need to use sensitive information such as passwords, API keys, or other credentials. Hardcoding this sensitive information directly into your code can lead to security vulnerabilities, as your codebase may be shared or stored in version control systems like Git. Therefore, it is crucial to handle such information securely. \n"
   ]
  },
  {
   "cell_type": "markdown",
   "metadata": {},
   "source": [
    "**Table of contents**<a id='toc0_'></a>    \n",
    "- [Hardcoded Sensitive Information Risks](#toc1_)    \n",
    "- [Using Environment Variables](#toc2_)    \n",
    "- [Storing Sensitive Data in Environment Variables](#toc3_)    \n",
    "- [Reading Environment Variables in Python](#toc4_)    \n",
    "- [Useful Terminal Commands for Environment Variables](#toc5_)    \n",
    "  - [Listing Environment Variables](#toc5_1_)    \n",
    "  - [Reading a Specific Environment Variable](#toc5_2_)    \n",
    "  - [Setting Environment Variables](#toc5_3_)    \n",
    "  - [Unsetting Environment Variables](#toc5_4_)    \n",
    "  - [Persistent Environment Variables](#toc5_5_)    \n",
    "- [Summary](#toc6_)    \n",
    "\n",
    "<!-- vscode-jupyter-toc-config\n",
    "\tnumbering=false\n",
    "\tanchor=true\n",
    "\tflat=false\n",
    "\tminLevel=2\n",
    "\tmaxLevel=6\n",
    "\t/vscode-jupyter-toc-config -->\n",
    "<!-- THIS CELL WILL BE REPLACED ON TOC UPDATE. DO NOT WRITE YOUR TEXT IN THIS CELL -->"
   ]
  },
  {
   "cell_type": "markdown",
   "metadata": {},
   "source": [
    "## <a id='toc1_'></a>[Hardcoded Sensitive Information Risks](#toc0_)\n"
   ]
  },
  {
   "cell_type": "markdown",
   "metadata": {},
   "source": [
    "Hardcoding sensitive data, such as passwords or API keys, within your script is a bad practice for several reasons:\n",
    "\n",
    "1. **Security Exposure**: If the code repository is made public, or if unauthorized users gain access to the code, your sensitive data is immediately compromised.\n",
    "2. **Code Reusability**: Hardcoded values make your code less reusable, as these values will need to be manually changed for different environments or users.\n",
    "3. **Maintenance Difficulty**: Updating credentials that are scattered throughout the codebase is error-prone and time-consuming.\n"
   ]
  },
  {
   "cell_type": "markdown",
   "metadata": {},
   "source": [
    "## <a id='toc2_'></a>[Using Environment Variables](#toc0_)\n"
   ]
  },
  {
   "cell_type": "markdown",
   "metadata": {},
   "source": [
    "Environment variables offer a way to keep sensitive data out of your codebase. They are dynamic-named values stored in the system environment that can affect the way running processes behave on a computer.\n"
   ]
  },
  {
   "cell_type": "markdown",
   "metadata": {},
   "source": [
    "To securely manage sensitive information, we can store these details in environment variables and then access those variables within our Python scripts. This way, credentials are not exposed in the code, and we can easily change the sensitive data without modifying the script.\n"
   ]
  },
  {
   "cell_type": "markdown",
   "metadata": {},
   "source": [
    "## <a id='toc3_'></a>[Storing Sensitive Data in Environment Variables](#toc0_)\n"
   ]
  },
  {
   "cell_type": "markdown",
   "metadata": {},
   "source": [
    "To set an environment variable, you can use the command line or terminal in your operating system:\n",
    "\n",
    "- **On Linux/Mac**:\n",
    "  ```bash\n",
    "  export EMAIL_USER='myemail@example.com'\n",
    "  export EMAIL_PASS='mysecurepassword'\n",
    "  ```\n",
    "\n",
    "- **On Windows Command Prompt**:\n",
    "  ```cmd\n",
    "  set EMAIL_USER=myemail@example.com\n",
    "  set EMAIL_PASS=mysecurepassword\n",
    "  ```\n",
    "\n",
    "- **On Windows PowerShell**:\n",
    "  ```powershell\n",
    "  $env:EMAIL_USER='myemail@example.com'\n",
    "  $env:EMAIL_PASS='mysecurepassword'\n",
    "  ```\n"
   ]
  },
  {
   "cell_type": "markdown",
   "metadata": {},
   "source": [
    "These commands will set the environment variables only for the duration of the session. To make them persist across sessions, you can place them in your shell's startup file, like `.bashrc` or `.bash_profile`, or use the system settings in Windows.\n"
   ]
  },
  {
   "cell_type": "markdown",
   "metadata": {},
   "source": [
    "## <a id='toc4_'></a>[Reading and Setting Environment Variables in Python](#toc0_)\n"
   ]
  },
  {
   "cell_type": "markdown",
   "metadata": {},
   "source": [
    "In Jupyter notebooks, you can set environment variables within a notebook using the `%env` magic command. Here's how you can do it"
   ]
  },
  {
   "cell_type": "markdown",
   "metadata": {},
   "source": [
    "1. To set an environment variable, use the following syntax in a notebook cell:\n"
   ]
  },
  {
   "cell_type": "markdown",
   "metadata": {},
   "source": [
    "```bash\n",
    "%env MY_VARIABLE=value\n",
    "```\n"
   ]
  },
  {
   "cell_type": "markdown",
   "metadata": {},
   "source": [
    "Replace `MY_VARIABLE` with the name of your variable and `value` with the value you want to assign to it.\n"
   ]
  },
  {
   "cell_type": "markdown",
   "metadata": {},
   "source": [
    "2. To check the value of the environment variable you just set, you can either use the `%env` magic command without any arguments to list all environment variables or specify the variable:\n"
   ]
  },
  {
   "cell_type": "markdown",
   "metadata": {},
   "source": [
    "```bash\n",
    "%env MY_VARIABLE\n",
    "```\n"
   ]
  },
  {
   "cell_type": "markdown",
   "metadata": {},
   "source": [
    "3. If you want to use the standard Python approach, you can set an environment variable using the `os` module:\n"
   ]
  },
  {
   "cell_type": "markdown",
   "metadata": {},
   "source": [
    "```python\n",
    "import os\n",
    "os.environ['MY_VARIABLE'] = 'value'\n",
    "```\n"
   ]
  },
  {
   "cell_type": "markdown",
   "metadata": {},
   "source": [
    "Keep in mind that environment variables set using `%env` or `os.environ` within a Jupyter notebook are only set for the process running the notebook (i.e., they are not persistent across system restarts or across different notebooks). If you need to set an environment variable persistently and system-wide, you will need to do so outside of Jupyter, using your operating system's method for setting environment variables (e.g., `export` in Unix/Linux or `setx` in Windows).\n"
   ]
  },
  {
   "cell_type": "markdown",
   "metadata": {},
   "source": [
    "One important note is that if you set an environment variable using `os.environ` after you've already imported a module that reads that environment variable, the module may not see the change, since it may only read the environment variable once at import time. If you need a module to see the updated environment variable, you may need to re-import that module or restart your Jupyter notebook kernel."
   ]
  },
  {
   "cell_type": "markdown",
   "metadata": {},
   "source": [
    "## <a id='toc5_'></a>[Useful Terminal Commands for Environment Variables](#toc0_)\n"
   ]
  },
  {
   "cell_type": "markdown",
   "metadata": {},
   "source": [
    "Environment variables are often used to store sensitive information required by scripts and applications. When working with environment variables, it's useful to know how to list and read them from the terminal or command line. Below, we'll explore some common commands used across different operating systems.\n"
   ]
  },
  {
   "cell_type": "markdown",
   "metadata": {},
   "source": [
    "### <a id='toc5_1_'></a>[Listing Environment Variables](#toc0_)\n"
   ]
  },
  {
   "cell_type": "markdown",
   "metadata": {},
   "source": [
    "To list all environment variables, you can use the following commands:\n",
    "\n",
    "- **On Linux/Mac**:\n",
    "  ```bash\n",
    "  printenv\n",
    "  ```\n",
    "  This command will print out all environment variables set in your current shell session.\n",
    "\n",
    "- **On Windows Command Prompt**:\n",
    "  ```cmd\n",
    "  set\n",
    "  ```\n",
    "  Similar to `printenv`, this command will list all environment variables available in the command prompt session.\n",
    "\n",
    "- **On Windows PowerShell**:\n",
    "  ```powershell\n",
    "  gci env: | sort-object name\n",
    "  ```\n",
    "  This command uses the `Get-ChildItem` cmdlet to list all environment variables and sorts them by name.\n"
   ]
  },
  {
   "cell_type": "markdown",
   "metadata": {},
   "source": [
    "### <a id='toc5_2_'></a>[Reading a Specific Environment Variable](#toc0_)\n"
   ]
  },
  {
   "cell_type": "markdown",
   "metadata": {},
   "source": [
    "If you want to read the value of a specific environment variable, you can use the following commands:\n",
    "\n",
    "- **On Linux/Mac**:\n",
    "  ```bash\n",
    "  echo $VARIABLE_NAME\n",
    "  ```\n",
    "  Replace `VARIABLE_NAME` with the name of the environment variable you want to read.\n",
    "\n",
    "- **On Windows Command Prompt**:\n",
    "  ```cmd\n",
    "  echo %VARIABLE_NAME%\n",
    "  ```\n",
    "  Again, replace `VARIABLE_NAME` with the name of the environment variable.\n",
    "\n",
    "- **On Windows PowerShell**:\n",
    "  ```powershell\n",
    "  echo $env:VARIABLE_NAME\n",
    "  ```\n",
    "  Replace `VARIABLE_NAME` with the actual name of your environment variable.\n"
   ]
  },
  {
   "cell_type": "markdown",
   "metadata": {},
   "source": [
    "### <a id='toc5_3_'></a>[Setting Environment Variables](#toc0_)\n"
   ]
  },
  {
   "cell_type": "markdown",
   "metadata": {},
   "source": [
    "To set an environment variable for the duration of your session:\n",
    "\n",
    "- **On Linux/Mac**:\n",
    "  ```bash\n",
    "  export VARIABLE_NAME='value'\n",
    "  ```\n",
    "\n",
    "- **On Windows Command Prompt**:\n",
    "  ```cmd\n",
    "  set VARIABLE_NAME=value\n",
    "  ```\n",
    "\n",
    "- **On Windows PowerShell**:\n",
    "  ```powershell\n",
    "  $env:VARIABLE_NAME='value'\n",
    "  ```\n"
   ]
  },
  {
   "cell_type": "markdown",
   "metadata": {},
   "source": [
    "### <a id='toc5_4_'></a>[Unsetting Environment Variables](#toc0_)\n"
   ]
  },
  {
   "cell_type": "markdown",
   "metadata": {},
   "source": [
    "If you need to remove an environment variable from the session:\n",
    "\n",
    "- **On Linux/Mac**:\n",
    "  ```bash\n",
    "  unset VARIABLE_NAME\n",
    "  ```\n",
    "\n",
    "- **On Windows Command Prompt**:\n",
    "  ```cmd\n",
    "  set VARIABLE_NAME=\n",
    "  ```\n",
    "\n",
    "- **On Windows PowerShell**:\n",
    "  ```powershell\n",
    "  Remove-Item Env:\\VARIABLE_NAME\n",
    "  ```\n"
   ]
  },
  {
   "cell_type": "markdown",
   "metadata": {},
   "source": [
    "### <a id='toc5_5_'></a>[Persistent Environment Variables](#toc0_)\n"
   ]
  },
  {
   "cell_type": "markdown",
   "metadata": {},
   "source": [
    "For environment variables to persist across sessions and reboots, you'll need to set them in system-level configurations:\n",
    "\n",
    "- **On Linux/Mac**: Add the `export VARIABLE_NAME='value'` line to your shell's startup file (`~/.bashrc`, `~/.bash_profile`, or `~/.zshrc` depending on your shell).\n",
    "\n",
    "- **On Windows**: Use the System Properties window, which can be accessed via the Control Panel or by right-clicking on 'This PC' and selecting 'Properties', then 'Advanced system settings', and finally, 'Environment Variables'.\n",
    "\n",
    "These commands are essential for managing environment variables, which are a secure way to handle sensitive information required by your applications. Remember to use these commands with caution, as improperly setting or revealing environment variables can compromise security.\n"
   ]
  },
  {
   "cell_type": "markdown",
   "metadata": {},
   "source": [
    "## <a id='toc6_'></a>[Summary](#toc0_)\n"
   ]
  },
  {
   "cell_type": "markdown",
   "metadata": {},
   "source": [
    "By using environment variables, you can keep your sensitive credentials secure and make your code more maintainable and portable. Remember to never hardcode sensitive information, especially if you're going to share your code or store it in a public place.\n"
   ]
  },
  {
   "cell_type": "markdown",
   "metadata": {},
   "source": [
    "Remember to include instructions on setting and using environment variables in your project documentation so that users can easily set up their own instances of the project.\n"
   ]
  }
 ],
 "metadata": {
  "language_info": {
   "name": "python"
  }
 },
 "nbformat": 4,
 "nbformat_minor": 2
}
