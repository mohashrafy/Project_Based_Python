{
 "cells": [
  {
   "cell_type": "markdown",
   "metadata": {},
   "source": [
    "<img src=\"./images/banner.png\" width=\"800\">"
   ]
  },
  {
   "cell_type": "markdown",
   "metadata": {},
   "source": [
    "# Project: Number Guesser Game"
   ]
  },
  {
   "cell_type": "markdown",
   "metadata": {},
   "source": [
    "**Table of contents**<a id='toc0_'></a>    \n",
    "- [Objective](#toc1_)    \n",
    "- [Requirements](#toc2_)    \n",
    "- [Tips](#toc3_)    \n",
    "- [Solutions](#toc4_)    \n",
    "\n",
    "<!-- vscode-jupyter-toc-config\n",
    "\tnumbering=false\n",
    "\tanchor=true\n",
    "\tflat=false\n",
    "\tminLevel=2\n",
    "\tmaxLevel=6\n",
    "\t/vscode-jupyter-toc-config -->\n",
    "<!-- THIS CELL WILL BE REPLACED ON TOC UPDATE. DO NOT WRITE YOUR TEXT IN THIS CELL -->"
   ]
  },
  {
   "cell_type": "markdown",
   "metadata": {},
   "source": [
    "\n",
    "Welcome to the Number Guesser Game project! This is a beginner-friendly Python project where you will build a fun game that challenges the user to guess a randomly generated number. For each incorrect guess, the user will receive hints to help them, but at the cost of reducing their final score.\n"
   ]
  },
  {
   "cell_type": "markdown",
   "metadata": {},
   "source": [
    "\n",
    "## <a id='toc1_'></a>[Objective](#toc0_)\n"
   ]
  },
  {
   "cell_type": "markdown",
   "metadata": {},
   "source": [
    "\n",
    "Your task is to create a game with the following features:\n",
    "\n",
    "1. The game generates a random number between a given range (e.g., 1 to 100).\n",
    "2. The user is prompted to guess the number.\n",
    "3. For each incorrect guess, the user receives a hint. The hint should indicate whether the actual number is higher or lower than the guessed number.\n",
    "4. Each incorrect guess reduces the user's score.\n",
    "5. The game ends when the user guesses the correct number or decides to quit.\n"
   ]
  },
  {
   "cell_type": "markdown",
   "metadata": {},
   "source": [
    "\n",
    "## <a id='toc2_'></a>[Requirements](#toc0_)\n"
   ]
  },
  {
   "cell_type": "markdown",
   "metadata": {},
   "source": [
    "\n",
    "1. Organize your project with a clear directory and file structure.\n",
    "2. Implement a scoring system.\n",
    "3. Provide user-friendly messages and hints.\n",
    "4. Ensure the user's input is validated.\n"
   ]
  },
  {
   "cell_type": "markdown",
   "metadata": {},
   "source": [
    "\n",
    "## <a id='toc3_'></a>[Tips](#toc0_)\n"
   ]
  },
  {
   "cell_type": "markdown",
   "metadata": {},
   "source": [
    "\n",
    "- Think about how you can break down the game into smaller components or modules.\n",
    "- Consider using functions or classes to encapsulate different functionalities.\n",
    "- Test each component separately before integrating them.\n"
   ]
  },
  {
   "cell_type": "markdown",
   "metadata": {},
   "source": [
    "## <a id='toc4_'></a>[Solutions](#toc0_)"
   ]
  },
  {
   "cell_type": "markdown",
   "metadata": {},
   "source": [
    "Inside the `Number Guesser Game Project` directory, you will find two distinct solutions:\n",
    "\n",
    "1. **Solution A**:\n",
    "    - **Pros**:\n",
    "        - Straightforward and simple structure.\n",
    "        - Easy to understand for beginners.\n",
    "    - **Cons**:\n",
    "        - Lacks modularity, making it harder to maintain and expand.\n",
    "        - All code is lumped together, which can be confusing as the project grows.\n",
    "\n",
    "2. **Solution B (Using the `src` pattern)**:\n",
    "    - **Pros**:\n",
    "        - Organized with all source code inside the `src` directory.\n",
    "        - Modular design, separating different functionalities into distinct modules.\n",
    "        - Includes a `README.md` for detailed explanations and a `requirements.txt` file to manage dependencies.\n",
    "    - **Cons**:\n",
    "        - Might be slightly more complex for absolute beginners.\n",
    "        - Requires understanding of `PYTHONPATH` and Python packaging for optimal execution.\n",
    "        - **Might be Overkill**: For very small projects or prototypes where rapid development is more crucial than organization, this approach can be excessive. For instance, if you're creating a quick script to automate a mundane task or a one-off data analysis, the overhead of setting up a modular structure might not be justified.\n"
   ]
  },
  {
   "cell_type": "markdown",
   "metadata": {},
   "source": [
    "Good luck, and happy coding!"
   ]
  }
 ],
 "metadata": {
  "language_info": {
   "name": "python"
  },
  "orig_nbformat": 4
 },
 "nbformat": 4,
 "nbformat_minor": 2
}
