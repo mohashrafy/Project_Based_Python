{
 "cells": [
  {
   "cell_type": "markdown",
   "metadata": {},
   "source": [
    "- TicTacToe\n",
    "  - __init__\n",
    "  - get_random_first_player\n",
    "  - [X] fix_spot: mark board\n",
    "  - [X] has_player_won(self, player)\n",
    "  - [X] is_board_filled\n",
    "  - [X] swap_player_turn\n",
    "  - [X] show_board"
   ]
  },
  {
   "cell_type": "code",
   "execution_count": 57,
   "metadata": {},
   "outputs": [],
   "source": [
    "import random\n",
    "\n",
    "\n",
    "class TicTacToe:\n",
    "    def __init__(self, ):\n",
    "        self.board = [' '] * 10 # list(map(str, range(10)))\n",
    "        self.player_turn = self.get_random_first_player()\n",
    "\n",
    "    def get_random_first_player(self):\n",
    "        return random.choice(['X', 'O'])\n",
    "\n",
    "    def show_board(self):\n",
    "        print('\\n')\n",
    "        print(self.board[1] + '|' + self.board[2] + '|' + self.board[3])\n",
    "        print('-----')\n",
    "        print(self.board[4] + '|' + self.board[5] + '|' + self.board[6])\n",
    "        print('-----')\n",
    "        print(self.board[7] + '|' + self.board[8] + '|' + self.board[9])\n",
    "        print('\\n')\n",
    "\n",
    "    def swap_player_turn(self):\n",
    "        self.player_turn = 'X' if self.player_turn == 'O' else 'O'\n",
    "        return self.player_turn\n",
    "\n",
    "    def is_board_filled(self):\n",
    "        return ' ' not in self.board[1:]\n",
    "\n",
    "    def fix_spot(self, cell, player):\n",
    "        self.board[cell] = player\n",
    "\n",
    "    def has_player_won(self, player):\n",
    "        win_combinations = [\n",
    "            [1, 2, 3], [4, 5, 6], [7, 8, 9], # rows\n",
    "            [1, 4, 7], [2, 5, 8], [3, 6, 9], # columns\n",
    "            [1, 5, 9], [3, 5, 7] # diagonals\n",
    "        ]\n",
    "        for combination in win_combinations:\n",
    "            if all([self.board[cell] == player for cell in combination]):\n",
    "                return True\n",
    "\n",
    "        return False\n",
    "\n",
    "    def start(self):\n",
    "        while True:\n",
    "            self.show_board()\n",
    "            print(f'Player {self.player_turn} turn')\n",
    "            cell = int(input('Enter cell number from 1 to 9: '))\n",
    "\n",
    "            if self.board[cell] == ' ' and cell in range(1, 10):\n",
    "                self.fix_spot(cell, self.player_turn)\n",
    "\n",
    "                if self.has_player_won(self.player_turn):\n",
    "                    self.show_board()\n",
    "                    print(f'Player {self.player_turn} won!')\n",
    "                    break\n",
    "\n",
    "                if self.is_board_filled():\n",
    "                    print('Draw!')\n",
    "                    break\n",
    "            else:\n",
    "                print(\"Invalid cell number\")"
   ]
  },
  {
   "cell_type": "code",
   "execution_count": 58,
   "metadata": {},
   "outputs": [],
   "source": [
    "game = TicTacToe()"
   ]
  },
  {
   "cell_type": "code",
   "execution_count": null,
   "metadata": {},
   "outputs": [],
   "source": [
    "xgame.start()"
   ]
  }
 ],
 "metadata": {
  "kernelspec": {
   "display_name": "py310",
   "language": "python",
   "name": "python3"
  },
  "language_info": {
   "codemirror_mode": {
    "name": "ipython",
    "version": 3
   },
   "file_extension": ".py",
   "mimetype": "text/x-python",
   "name": "python",
   "nbconvert_exporter": "python",
   "pygments_lexer": "ipython3",
   "version": "3.10.12"
  }
 },
 "nbformat": 4,
 "nbformat_minor": 2
}
